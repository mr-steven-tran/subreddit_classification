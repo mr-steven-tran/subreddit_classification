{
 "cells": [
  {
   "cell_type": "markdown",
   "id": "b5384072-7226-4220-8a4a-9b0c209a39f2",
   "metadata": {},
   "source": [
    "# Project 3 - Subreddit Classification\n",
    "### by Steven Tran\n",
    "\n",
    "| **Notebooks** |\n",
    "|-----------|\n",
    "|[01_Data_Collection](01_Data_Collection.ipynb)|\n",
    "|[02_Cleaning_and_EDA.ipynb](02_Cleaning_and_EDA.ipynb)|\n",
    "|[03_Preprocessing_Modeling_and_Tuning](03_Preprocessing_Modeling_and_Tuning.ipynb)|\n",
    "|[04_Production_Model_and_Conclusion](04_Production_Model_and_Conclusion.ipynb)|"
   ]
  },
  {
   "cell_type": "markdown",
   "id": "30783d8b-4c63-4f1d-ae2b-6f8f51df4915",
   "metadata": {},
   "source": [
    "---\n",
    "\n",
    "# 01: Data Collection\n",
    "\n",
    "In this notebook, I will collect 8,000 posts from two subreddits. The table below describes the two subredits:\n",
    "\n",
    "| Subreddit                                                         | Description                                                                                                                                              |\n",
    "|-------------------------------------------------------------------|----------------------------------------------------------------------------------------------------------------------------------------------------------|\n",
    "| [/r/UnpopularOpinion](https://www.reddit.com/r/unpopularopinion/) | From the subreddit's top rule:  \"Your post must be an opinion. Not a question. Not a showerthought. Not a rant. Not a proposal. Not a fact. An opinion.\" |\n",
    "| [/r/Rant](https://www.reddit.com/r/rant/)                         | From Dictionary.com:  \"to speak or declaim extravagantly or violently; talk in a wild or vehement way; rave:\"                                            |\n",
    "\n",
    "The process below relies on [Reddit's pushshift API](https://github.com/pushshift/api)."
   ]
  },
  {
   "cell_type": "code",
   "execution_count": 2,
   "id": "175e8afa-c739-4f65-aa4d-ec7fa77f695a",
   "metadata": {
    "execution": {
     "iopub.execute_input": "2021-11-05T01:28:13.013120Z",
     "iopub.status.busy": "2021-11-05T01:28:13.013120Z",
     "iopub.status.idle": "2021-11-05T01:28:13.028750Z",
     "shell.execute_reply": "2021-11-05T01:28:13.028750Z",
     "shell.execute_reply.started": "2021-11-05T01:28:13.013120Z"
    },
    "tags": []
   },
   "outputs": [],
   "source": [
    "import requests, time, pandas as pd, numpy as np\n",
    "\n",
    "#access pushshift api to get reddit posts:\n",
    "base_url = 'https://api.pushshift.io/reddit/search/submission'\n",
    "\n",
    "def get_metadata(subreddit):\n",
    "    meta_params = {\n",
    "        'subreddit': subreddit,\n",
    "        'size': 0,\n",
    "        'metadata': 'true'\n",
    "    }\n",
    "    \n",
    "    res = requests.get(base_url, meta_params)\n",
    "    sub_metadata = res.json()['metadata']\n",
    "    return {'sub_metadata': sub_metadata}\n",
    "\n",
    "def get_posts(subreddit, num_valid_posts = 200):\n",
    "    #define some boundaries:\n",
    "    target_valid_posts = num_valid_posts #200 by default\n",
    "    count_posts_collected = 0\n",
    "    beginning_date = 1609459200 # jan 1 2021 00:00:00 # start at this date and go back in time; UTC\n",
    "    final_df = pd.DataFrame()\n",
    "    times_run = 0\n",
    "    seconds_waited = 0\n",
    "    \n",
    "\n",
    "    if get_metadata(subreddit)['sub_metadata']['total_results'] > target_valid_posts:\n",
    "    #if requests.get(base_url,check_params).json()['metadata']['total_results'] > target_valid_posts:\n",
    "        #initial parameters:\n",
    "        params = {\n",
    "            'subreddit': subreddit,\n",
    "            'size': min(target_valid_posts,100),\n",
    "            'before': beginning_date\n",
    "        }\n",
    "        \n",
    "        while count_posts_collected < target_valid_posts:\n",
    "            try:\n",
    "                #get posts:\n",
    "                res = requests.get(base_url,params).json()['data']\n",
    "                this_data = pd.DataFrame(res)[['id','subreddit','author','title','selftext','created_utc']]\n",
    "\n",
    "                #get new time (needs to happen before a bunch of rows get removed):\n",
    "                new_time = list(this_data['created_utc'])[-1]\n",
    "\n",
    "                # drop removed and deleted:\n",
    "                this_data.drop(this_data[this_data['selftext']=='[removed]'].index, inplace=True)\n",
    "                this_data.drop(this_data[this_data['selftext']=='[deleted]'].index, inplace=True)\n",
    "                this_data.drop(this_data[this_data['selftext'].isna()].index, inplace=True)\n",
    "                #append new posts assuming this_data is not of length 0:\n",
    "                if final_df.shape[0] == 0:\n",
    "                    final_df = this_data\n",
    "                else:\n",
    "                    final_df = pd.concat([final_df,this_data])\n",
    "\n",
    "                #get new size:\n",
    "                count_posts_collected += this_data.shape[0]\n",
    "                new_size = min(target_valid_posts - count_posts_collected,100)\n",
    "\n",
    "                #set new params:\n",
    "                params = {\n",
    "                    'subreddit': subreddit,\n",
    "                    'size': new_size,\n",
    "                    'before': new_time,                  \n",
    "                }\n",
    "                \n",
    "                #show in console what the current collected count is:\n",
    "                if count_posts_collected < target_valid_posts:\n",
    "                    print(f'Collected {count_posts_collected} observations, continuing.', end='\\r')\n",
    "                else:\n",
    "                    print('==========================================================')\n",
    "                    print(f'Collected {count_posts_collected} observations.')\n",
    "                    print('\\nSuccess.')\n",
    "                #wait a bit before we go again:\n",
    "                time.sleep(10)\n",
    "                seconds_waited += 10\n",
    "                times_run += 1\n",
    "                \n",
    "            except:\n",
    "                target_valid_posts = 0\n",
    "                print(f'Error, returning request data from current params. Managed to collect {count_posts_collected}')\n",
    "                final_df.reset_index(drop=True,inplace=True)\n",
    "                return (res, final_df)\n",
    "        \n",
    "    else:\n",
    "        print(f'Error, {subreddit} did not have enough posts to be considered.')\n",
    "    print()\n",
    "    print(f'Went out to get posts {times_run} times. Waited {seconds_waited} seconds or {seconds_waited/60:.1f} minutes.')\n",
    "    final_df.reset_index(drop=True,inplace=True)\n",
    "    return final_df\n",
    "\n"
   ]
  },
  {
   "cell_type": "markdown",
   "id": "183a4097-0e74-48e7-b28d-980d05eef408",
   "metadata": {},
   "source": [
    "---\n",
    "\n",
    "## Go get the data\n"
   ]
  },
  {
   "cell_type": "markdown",
   "id": "a7df7f5d-136f-4df9-b80e-858d0a9e14f1",
   "metadata": {},
   "source": [
    "---"
   ]
  },
  {
   "cell_type": "code",
   "execution_count": 7,
   "id": "81fd74ce-c642-43c7-9fd4-bdcaa2bc230b",
   "metadata": {
    "execution": {
     "iopub.execute_input": "2021-11-04T17:17:47.434047Z",
     "iopub.status.busy": "2021-11-04T17:17:47.434047Z",
     "iopub.status.idle": "2021-11-04T17:55:18.898627Z",
     "shell.execute_reply": "2021-11-04T17:55:18.897628Z",
     "shell.execute_reply.started": "2021-11-04T17:17:47.434047Z"
    },
    "tags": []
   },
   "outputs": [
    {
     "name": "stdout",
     "output_type": "stream",
     "text": [
      "==========================================================\n",
      "Collected 8000 observations.\n",
      "\n",
      "Success.\n",
      "\n",
      "Went out to get posts 215 times. Waited 2150 seconds or 35.8 minutes.\n"
     ]
    }
   ],
   "source": [
    "#unpopular opinion\n",
    "uo = get_posts('unpopularopinion',8_000)\n",
    "uo.to_csv('../data/posts__unpopular_opinion.csv', index=False)"
   ]
  },
  {
   "cell_type": "code",
   "execution_count": 8,
   "id": "9886fe46-59c6-4118-b01d-c4b88aaebb51",
   "metadata": {
    "execution": {
     "iopub.execute_input": "2021-11-04T17:55:18.901625Z",
     "iopub.status.busy": "2021-11-04T17:55:18.900626Z",
     "iopub.status.idle": "2021-11-04T17:55:18.914631Z",
     "shell.execute_reply": "2021-11-04T17:55:18.913627Z",
     "shell.execute_reply.started": "2021-11-04T17:55:18.901625Z"
    }
   },
   "outputs": [],
   "source": [
    "del uo #for memory release"
   ]
  },
  {
   "cell_type": "markdown",
   "id": "1dff1ee3-f223-4f91-beab-44688e378b27",
   "metadata": {},
   "source": [
    "---"
   ]
  },
  {
   "cell_type": "code",
   "execution_count": 9,
   "id": "7f13e152-f0c1-420e-a4f7-441285cef7b9",
   "metadata": {
    "execution": {
     "iopub.execute_input": "2021-11-05T01:58:57.697122Z",
     "iopub.status.busy": "2021-11-05T01:58:57.697122Z",
     "iopub.status.idle": "2021-11-05T02:22:08.349502Z",
     "shell.execute_reply": "2021-11-05T02:22:08.349502Z",
     "shell.execute_reply.started": "2021-11-05T01:58:57.697122Z"
    },
    "tags": []
   },
   "outputs": [
    {
     "name": "stdout",
     "output_type": "stream",
     "text": [
      "==========================================================\n",
      "Collected 8000 observations.\n",
      "\n",
      "Success.\n",
      "\n",
      "Went out to get posts 133 times. Waited 1330 seconds or 22.2 minutes.\n"
     ]
    }
   ],
   "source": [
    "#rants:\n",
    "rants = get_posts('rant',8_000)\n",
    "rants.to_csv('../data/posts__rants.csv',index=False)"
   ]
  },
  {
   "cell_type": "code",
   "execution_count": 10,
   "id": "3f9bfb03-e488-43af-a683-6226fca05df2",
   "metadata": {
    "execution": {
     "iopub.execute_input": "2021-11-05T02:22:15.354914Z",
     "iopub.status.busy": "2021-11-05T02:22:15.354914Z",
     "iopub.status.idle": "2021-11-05T02:22:15.386216Z",
     "shell.execute_reply": "2021-11-05T02:22:15.386216Z",
     "shell.execute_reply.started": "2021-11-05T02:22:15.354914Z"
    },
    "tags": []
   },
   "outputs": [],
   "source": [
    "del rants #for memory release"
   ]
  }
 ],
 "metadata": {
  "kernelspec": {
   "display_name": "Python 3",
   "language": "python",
   "name": "python3"
  },
  "language_info": {
   "codemirror_mode": {
    "name": "ipython",
    "version": 3
   },
   "file_extension": ".py",
   "mimetype": "text/x-python",
   "name": "python",
   "nbconvert_exporter": "python",
   "pygments_lexer": "ipython3",
   "version": "3.8.8"
  }
 },
 "nbformat": 4,
 "nbformat_minor": 5
}
