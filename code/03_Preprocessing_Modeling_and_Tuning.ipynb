{
 "cells": [
  {
   "cell_type": "markdown",
   "id": "b5384072-7226-4220-8a4a-9b0c209a39f2",
   "metadata": {},
   "source": [
    "# Project 3 - Subreddit Classification\n",
    "### by Steven Tran\n",
    "\n",
    "| **Notebooks** |\n",
    "|-----------|\n",
    "|[01_Data_Collection](01_Data_Collection.ipynb)|\n",
    "|[02_Cleaning_and_EDA.ipynb](02_Cleaning_and_EDA.ipynb)|\n",
    "|[03_Preprocessing_Modeling_and_Tuning](03_Preprocessing_Modeling_and_Tuning.ipynb)|\n",
    "|[04_Production_Model_and_Conclusion](04_Production_Model_and_Conclusion.ipynb)|"
   ]
  },
  {
   "cell_type": "markdown",
   "id": "30783d8b-4c63-4f1d-ae2b-6f8f51df4915",
   "metadata": {},
   "source": [
    "---\n",
    "\n",
    "# 03: Preprocessing, Modeling, and Tuning\n"
   ]
  },
  {
   "cell_type": "code",
   "execution_count": 1,
   "id": "97b13e7f-6415-451a-be8c-9046e5d1faa4",
   "metadata": {
    "execution": {
     "iopub.execute_input": "2021-11-08T00:57:24.022300Z",
     "iopub.status.busy": "2021-11-08T00:57:24.022300Z",
     "iopub.status.idle": "2021-11-08T00:57:27.521827Z",
     "shell.execute_reply": "2021-11-08T00:57:27.521827Z",
     "shell.execute_reply.started": "2021-11-08T00:57:24.022300Z"
    },
    "tags": []
   },
   "outputs": [],
   "source": [
    "# imports:\n",
    "import pandas as pd, numpy as np, matplotlib.pyplot as plt, seaborn as sns\n",
    "from sklearn.feature_extraction.text import TfidfVectorizer\n",
    "from sklearn.pipeline import Pipeline\n",
    "from sklearn.model_selection import train_test_split, GridSearchCV\n",
    "\n",
    "#logistic regression model:\n",
    "from sklearn.linear_model import LogisticRegression\n",
    "\n",
    "#K-nearest neighbors classifier:\n",
    "from sklearn.neighbors import KNeighborsClassifier\n",
    "\n",
    "\n",
    "#If we have time, use xgboost too:\n",
    "from xgboost import XGBClassifier\n",
    "\n",
    "#Metrics:\n",
    "from sklearn.metrics import plot_confusion_matrix, accuracy_score, recall_score, precision_score, roc_curve, plot_roc_curve\n",
    "\n",
    "\n",
    "# using this option from lesson 5.05 modeling with VADER to display more text in columns:\n",
    "pd.options.display.max_colwidth = 200\n",
    "\n",
    "#read in data:\n",
    "df = pd.read_csv('../data/cleaned/unpopularopinions.csv')"
   ]
  },
  {
   "cell_type": "markdown",
   "id": "81f02394-099c-4fbc-95c9-2996f70104af",
   "metadata": {},
   "source": [
    "# In this notebook...\n",
    "\n",
    "I'll aim to proceed as follows:\n",
    "\n",
    "1. Generate a **null model**, the results of which will serve as our baseline for model performance.\n",
    "1. Instantiate a few model pipelines which will consist of\n",
    "     * a text vectorizer (`TfidfVectorizer`) and \n",
    "     * a classifier (`LogisticRegression`, `RandomForestClassifier`, `XGBoost`)\n",
    "1. Compare models' performance together and against the baseline.\n",
    "\n",
    "\n",
    "---\n",
    "\n",
    "## Preprocessing\n",
    "\n",
    "To start, we'll **define X and y**. As explored in the [02_Cleaning_and_EDA](02_Cleaning_and_EDA.ipynb), it's unlikely the `title` and `selftext` word count, string lenth and count/length ratio fields will be very predictive of the subreddit. This goes for the compound sentiment for these fields as well. \n",
    "\n",
    "This suggests the specific words included in either of the fields will be the most predictive. To simplify the vectorization and modeling, we'll combine the sets of lemmatized words from both fields into one.\n"
   ]
  },
  {
   "cell_type": "code",
   "execution_count": 2,
   "id": "48c833e7-2da6-4e20-86fa-3934db799841",
   "metadata": {
    "execution": {
     "iopub.execute_input": "2021-11-08T00:57:27.521827Z",
     "iopub.status.busy": "2021-11-08T00:57:27.521827Z",
     "iopub.status.idle": "2021-11-08T00:57:27.581835Z",
     "shell.execute_reply": "2021-11-08T00:57:27.581835Z",
     "shell.execute_reply.started": "2021-11-08T00:57:27.521827Z"
    },
    "tags": []
   },
   "outputs": [],
   "source": [
    "df['text'] = df['title_lemma'] + ' ' + df['selftext_lemma']"
   ]
  },
  {
   "cell_type": "markdown",
   "id": "8cfade86-c941-4691-b468-2b71e660d8fd",
   "metadata": {
    "execution": {
     "iopub.execute_input": "2021-11-05T02:33:49.722885Z",
     "iopub.status.busy": "2021-11-05T02:33:49.722885Z",
     "iopub.status.idle": "2021-11-05T02:33:49.738522Z",
     "shell.execute_reply": "2021-11-05T02:33:49.738522Z",
     "shell.execute_reply.started": "2021-11-05T02:33:49.722885Z"
    },
    "tags": []
   },
   "source": [
    "With that transformation done, we can assign the `text` of each reddit post as the predictor variable **X** and the `subreddit` target field to be **y**. To reiterate, `subreddit = 1` if the post came from **/r/UnpopularOpinion** and `subreddit = 0` if the post came from **/r/Rant**."
   ]
  },
  {
   "cell_type": "code",
   "execution_count": 3,
   "id": "8a0cd197-3f61-421b-a2e6-1d083f87db2c",
   "metadata": {
    "execution": {
     "iopub.execute_input": "2021-11-08T00:57:27.581835Z",
     "iopub.status.busy": "2021-11-08T00:57:27.581835Z",
     "iopub.status.idle": "2021-11-08T00:57:27.597891Z",
     "shell.execute_reply": "2021-11-08T00:57:27.597891Z",
     "shell.execute_reply.started": "2021-11-08T00:57:27.581835Z"
    },
    "tags": []
   },
   "outputs": [
    {
     "name": "stdout",
     "output_type": "stream",
     "text": [
      "(15715,) (15715,)\n"
     ]
    }
   ],
   "source": [
    "X = df['text']\n",
    "y = df['subreddit']\n",
    "print(X.shape, y.shape)"
   ]
  },
  {
   "cell_type": "markdown",
   "id": "894207ab-b40e-461c-a11f-145df90361ba",
   "metadata": {},
   "source": [
    "Before we model, apply a train-test split on the data to set aside some samples for model validation. The classes are balanced, but we'll stratify on the target **y** anyway."
   ]
  },
  {
   "cell_type": "code",
   "execution_count": 4,
   "id": "51c68be1-9e37-4f0b-bdf6-410279c25850",
   "metadata": {
    "execution": {
     "iopub.execute_input": "2021-11-08T00:57:27.597891Z",
     "iopub.status.busy": "2021-11-08T00:57:27.597891Z",
     "iopub.status.idle": "2021-11-08T00:57:27.630522Z",
     "shell.execute_reply": "2021-11-08T00:57:27.629490Z",
     "shell.execute_reply.started": "2021-11-08T00:57:27.597891Z"
    },
    "tags": []
   },
   "outputs": [
    {
     "name": "stdout",
     "output_type": "stream",
     "text": [
      "Training shapes: X:(11786,) y:(11786,) | Testing shapes: X:(3929,) y:(3929,)\n"
     ]
    }
   ],
   "source": [
    "X_train, X_test, y_train, y_test = train_test_split(X,y,random_state=42, stratify=y)\n",
    "print(f'Training shapes: X:{X_train.shape} y:{y_train.shape} | Testing shapes: X:{X_test.shape} y:{y_test.shape}')"
   ]
  },
  {
   "cell_type": "markdown",
   "id": "da57d684-4b5d-4660-a43e-293f94c5226d",
   "metadata": {
    "execution": {
     "iopub.execute_input": "2021-11-04T17:16:43.605959Z",
     "iopub.status.busy": "2021-11-04T17:16:43.599366Z",
     "iopub.status.idle": "2021-11-04T17:16:43.695868Z",
     "shell.execute_reply": "2021-11-04T17:16:43.691842Z",
     "shell.execute_reply.started": "2021-11-04T17:16:43.605959Z"
    }
   },
   "source": [
    "---\n",
    "\n",
    "## The Null Model\n",
    "\n",
    "A simple baseline model against which to compare would be to predict that every post in the sample is from **/r/UnpopularOpinion**. Under this crude model, the predictions would be correct approximately 51% of the time:"
   ]
  },
  {
   "cell_type": "code",
   "execution_count": 5,
   "id": "5b17b317-48f8-4dae-849a-ca4aa26d3343",
   "metadata": {
    "execution": {
     "iopub.execute_input": "2021-11-08T00:57:27.632566Z",
     "iopub.status.busy": "2021-11-08T00:57:27.631545Z",
     "iopub.status.idle": "2021-11-08T00:57:27.642647Z",
     "shell.execute_reply": "2021-11-08T00:57:27.642647Z",
     "shell.execute_reply.started": "2021-11-08T00:57:27.632566Z"
    },
    "tags": []
   },
   "outputs": [
    {
     "data": {
      "text/plain": [
       "1    0.509035\n",
       "0    0.490965\n",
       "Name: subreddit, dtype: float64"
      ]
     },
     "execution_count": 5,
     "metadata": {},
     "output_type": "execute_result"
    }
   ],
   "source": [
    "y_test.value_counts(normalize=True)"
   ]
  },
  {
   "cell_type": "markdown",
   "id": "7f39a2ba-fe85-444e-b1a2-3784905889dd",
   "metadata": {},
   "source": [
    "#### **The baseline accuracy to beat with our modeling is 51%**."
   ]
  },
  {
   "cell_type": "markdown",
   "id": "3b273b9b-14cf-4881-99a6-96245a1d519b",
   "metadata": {
    "tags": []
   },
   "source": [
    "---\n",
    "\n",
    "## Modeling and Tuning\n",
    "\n",
    "For our modeling, I will use the following classifiers to attempt to predict whether a given post belongs to **/r/UnpopularOpinion** or **/r/Rant**:\n",
    "\n",
    "* LogisticRegression\n",
    "* KNearestNeighbors\n",
    "* XGBoost \n",
    "\n",
    "For each of these models, we'll be using `pipelines` along with `TfidfVectorizer` to vectorize the text. I'll also add GridSearchCV to the mix to determine what the best vectorizer hyperparameters might be.\n",
    "\n",
    "First I'll instantiate a container for our models' scores:"
   ]
  },
  {
   "cell_type": "code",
   "execution_count": 6,
   "id": "e2fe104c-b9d0-4cda-a337-8a2b73028e1e",
   "metadata": {
    "execution": {
     "iopub.execute_input": "2021-11-08T00:57:27.646681Z",
     "iopub.status.busy": "2021-11-08T00:57:27.646681Z",
     "iopub.status.idle": "2021-11-08T00:57:27.658647Z",
     "shell.execute_reply": "2021-11-08T00:57:27.658647Z",
     "shell.execute_reply.started": "2021-11-08T00:57:27.646681Z"
    },
    "tags": []
   },
   "outputs": [],
   "source": [
    "accuracies = {}\n",
    "accuracies['baseline'] = {'train': y_test.mean(), 'test': y_test.mean()}"
   ]
  },
  {
   "cell_type": "code",
   "execution_count": 7,
   "id": "69e0d5ee-e9c7-4c0b-91af-6047bb9bb05a",
   "metadata": {
    "execution": {
     "iopub.execute_input": "2021-11-08T00:57:27.658647Z",
     "iopub.status.busy": "2021-11-08T00:57:27.658647Z",
     "iopub.status.idle": "2021-11-08T00:57:27.674647Z",
     "shell.execute_reply": "2021-11-08T00:57:27.674647Z",
     "shell.execute_reply.started": "2021-11-08T00:57:27.658647Z"
    },
    "tags": []
   },
   "outputs": [
    {
     "data": {
      "text/plain": [
       "{'baseline': {'train': 0.5090353779587682, 'test': 0.5090353779587682}}"
      ]
     },
     "execution_count": 7,
     "metadata": {},
     "output_type": "execute_result"
    }
   ],
   "source": [
    "accuracies"
   ]
  },
  {
   "cell_type": "markdown",
   "id": "e4b2d495-b738-4bc2-9f86-488dc89a671f",
   "metadata": {},
   "source": [
    "Also, to plot confusion matrices, we'll pass the following variable as the `display_labels` parameter argument:"
   ]
  },
  {
   "cell_type": "code",
   "execution_count": 8,
   "id": "6e56029b-f52d-45b6-bb5d-c2a770ed341a",
   "metadata": {
    "execution": {
     "iopub.execute_input": "2021-11-08T00:57:27.678614Z",
     "iopub.status.busy": "2021-11-08T00:57:27.674647Z",
     "iopub.status.idle": "2021-11-08T00:57:27.688787Z",
     "shell.execute_reply": "2021-11-08T00:57:27.688787Z",
     "shell.execute_reply.started": "2021-11-08T00:57:27.678614Z"
    }
   },
   "outputs": [],
   "source": [
    "matrix_labels = ['/r/Rant','/r/UnpopularOpinion']"
   ]
  },
  {
   "cell_type": "code",
   "execution_count": 9,
   "id": "999eee99-523d-4e72-8d29-d910480bcfea",
   "metadata": {
    "execution": {
     "iopub.execute_input": "2021-11-08T00:57:27.688787Z",
     "iopub.status.busy": "2021-11-08T00:57:27.688787Z",
     "iopub.status.idle": "2021-11-08T00:57:27.706299Z",
     "shell.execute_reply": "2021-11-08T00:57:27.706299Z",
     "shell.execute_reply.started": "2021-11-08T00:57:27.688787Z"
    }
   },
   "outputs": [],
   "source": [
    "#some custom stopwords\n",
    "from sklearn.feature_extraction import text\n",
    "custom_stopwords = ['fuck','mad', 'really','fucking','just','like','know', 'unpopular', 'opinion', 'evil', 'ody','ama','hoes','chrome','filler', 'orange', 'green', 'yellow', 'canker']\n",
    "stopwords = text.ENGLISH_STOP_WORDS.union(custom_stopwords)"
   ]
  },
  {
   "cell_type": "markdown",
   "id": "327ad9c0-a565-4893-85bf-8a2a8b36f7dc",
   "metadata": {},
   "source": [
    "---\n",
    "\n",
    "### LogisticRegression"
   ]
  },
  {
   "cell_type": "code",
   "execution_count": 10,
   "id": "5f3f41f1-2267-41db-9553-fd3aa275d947",
   "metadata": {
    "execution": {
     "iopub.execute_input": "2021-11-08T00:57:27.706299Z",
     "iopub.status.busy": "2021-11-08T00:57:27.706299Z",
     "iopub.status.idle": "2021-11-08T01:12:35.448649Z",
     "shell.execute_reply": "2021-11-08T01:12:35.448649Z",
     "shell.execute_reply.started": "2021-11-08T00:57:27.706299Z"
    },
    "tags": []
   },
   "outputs": [
    {
     "data": {
      "text/plain": [
       "GridSearchCV(cv=5,\n",
       "             estimator=Pipeline(steps=[('tfidf', TfidfVectorizer()),\n",
       "                                       ('logreg', LogisticRegression())]),\n",
       "             n_jobs=-1,\n",
       "             param_grid={'logreg__C': [0.1, 1.0],\n",
       "                         'logreg__max_iter': [10000, 20000],\n",
       "                         'tfidf__max_df': [0.9, 0.95],\n",
       "                         'tfidf__max_features': [2000, 3500, 5000],\n",
       "                         'tfidf__min_df': [2, 3],\n",
       "                         'tfidf__ngram_range': [(1, 1), (1, 2)],\n",
       "                         'tfidf__stop_words': ['english',\n",
       "                                               frozenset({'a', 'about', 'above',\n",
       "                                                          'across', 'after',\n",
       "                                                          'afterwards', 'again',\n",
       "                                                          'against', 'all',\n",
       "                                                          'almost', 'alone',\n",
       "                                                          'along', 'already',\n",
       "                                                          'also', 'although',\n",
       "                                                          'always', 'am', 'ama',\n",
       "                                                          'among', 'amongst',\n",
       "                                                          'amoungst', 'amount',\n",
       "                                                          'an', 'and',\n",
       "                                                          'another', 'any',\n",
       "                                                          'anyhow', 'anyone',\n",
       "                                                          'anything', 'anyway', ...})]})"
      ]
     },
     "execution_count": 10,
     "metadata": {},
     "output_type": "execute_result"
    }
   ],
   "source": [
    "#instantiate pipeline:\n",
    "logreg_pipe = Pipeline([\n",
    "    ('tfidf', TfidfVectorizer()),\n",
    "    ('logreg', LogisticRegression())\n",
    "])\n",
    "\n",
    "#set pipeline parameters\n",
    "lr_pipe_params = {\n",
    "    'tfidf__stop_words': ['english',stopwords],\n",
    "    'tfidf__max_features': [2000,3500,5000],\n",
    "    'tfidf__min_df': [2,3],\n",
    "    'tfidf__max_df': [.9, .95],\n",
    "    'tfidf__ngram_range': [(1,1), (1,2)],\n",
    "    'logreg__max_iter': [10000,20000],\n",
    "    'logreg__C': [.1,1.0]\n",
    "}\n",
    "\n",
    "#instantiate gridsearchcv\n",
    "lr_gs = GridSearchCV(logreg_pipe,\n",
    "                     lr_pipe_params,\n",
    "                     cv=5,\n",
    "                     n_jobs=-1)\n",
    "\n",
    "#fit gridsearchcv:\n",
    "lr_gs.fit(X_train,y_train)"
   ]
  },
  {
   "cell_type": "code",
   "execution_count": 11,
   "id": "6d11708b-2c50-4379-96b9-d68197f89127",
   "metadata": {
    "execution": {
     "iopub.execute_input": "2021-11-08T01:12:35.448649Z",
     "iopub.status.busy": "2021-11-08T01:12:35.448649Z",
     "iopub.status.idle": "2021-11-08T01:12:37.940689Z",
     "shell.execute_reply": "2021-11-08T01:12:37.940689Z",
     "shell.execute_reply.started": "2021-11-08T01:12:35.448649Z"
    },
    "tags": []
   },
   "outputs": [
    {
     "name": "stdout",
     "output_type": "stream",
     "text": [
      "{'train': 0.8824876972679451, 'test': 0.8271824891829982}\n"
     ]
    }
   ],
   "source": [
    "#first add the accuracy score to our scorekeeping variable:\n",
    "accuracies['logistic_regression'] = {'train': lr_gs.score(X_train,y_train), 'test': lr_gs.score(X_test,y_test)}\n",
    "print(accuracies['logistic_regression'])"
   ]
  },
  {
   "cell_type": "markdown",
   "id": "b4848a7b-5374-4103-a2fd-5ad4918549a2",
   "metadata": {},
   "source": [
    "Not bad! Our model gets about 82% of classification predictions correct. Let's review how it's doing that:"
   ]
  },
  {
   "cell_type": "code",
   "execution_count": 12,
   "id": "88095d70-2a09-4c10-b63e-6791f2bba5c0",
   "metadata": {
    "execution": {
     "iopub.execute_input": "2021-11-08T01:12:37.940689Z",
     "iopub.status.busy": "2021-11-08T01:12:37.940689Z",
     "iopub.status.idle": "2021-11-08T01:12:37.956692Z",
     "shell.execute_reply": "2021-11-08T01:12:37.956692Z",
     "shell.execute_reply.started": "2021-11-08T01:12:37.940689Z"
    },
    "tags": []
   },
   "outputs": [
    {
     "data": {
      "text/plain": [
       "0.8266582892601864"
      ]
     },
     "execution_count": 12,
     "metadata": {},
     "output_type": "execute_result"
    }
   ],
   "source": [
    "lr_gs.best_score_"
   ]
  },
  {
   "cell_type": "code",
   "execution_count": 13,
   "id": "d5a4ec49-5dab-4096-9eca-fe191a1a233f",
   "metadata": {
    "execution": {
     "iopub.execute_input": "2021-11-08T01:12:37.956692Z",
     "iopub.status.busy": "2021-11-08T01:12:37.956692Z",
     "iopub.status.idle": "2021-11-08T01:12:37.972691Z",
     "shell.execute_reply": "2021-11-08T01:12:37.972691Z",
     "shell.execute_reply.started": "2021-11-08T01:12:37.956692Z"
    },
    "tags": []
   },
   "outputs": [
    {
     "data": {
      "text/plain": [
       "{'logreg__C': 1.0,\n",
       " 'logreg__max_iter': 10000,\n",
       " 'tfidf__max_df': 0.9,\n",
       " 'tfidf__max_features': 5000,\n",
       " 'tfidf__min_df': 3,\n",
       " 'tfidf__ngram_range': (1, 2),\n",
       " 'tfidf__stop_words': 'english'}"
      ]
     },
     "execution_count": 13,
     "metadata": {},
     "output_type": "execute_result"
    }
   ],
   "source": [
    "lr_gs.best_params_"
   ]
  },
  {
   "cell_type": "markdown",
   "id": "a4649807-a455-48b1-a735-184c25762628",
   "metadata": {},
   "source": [
    "The parameters used by the best model fit in the grid search used the top 5,000 most frequently occurring terms in the corpus. Further, the `ngram_range` hyperparameter of `(1,2)` indicates it checked for both unigrams (single-word terms) and bigrams (consecutive two-word terms)."
   ]
  },
  {
   "cell_type": "code",
   "execution_count": 14,
   "id": "7774261f-fbb9-4088-9799-57a0ca6ce057",
   "metadata": {
    "execution": {
     "iopub.execute_input": "2021-11-08T01:12:37.972691Z",
     "iopub.status.busy": "2021-11-08T01:12:37.972691Z",
     "iopub.status.idle": "2021-11-08T01:12:40.428807Z",
     "shell.execute_reply": "2021-11-08T01:12:40.428807Z",
     "shell.execute_reply.started": "2021-11-08T01:12:37.972691Z"
    }
   },
   "outputs": [
    {
     "data": {
      "text/plain": [
       "(0.8824876972679451, 0.8271824891829982)"
      ]
     },
     "execution_count": 14,
     "metadata": {},
     "output_type": "execute_result"
    }
   ],
   "source": [
    "lr_gs.score(X_train,y_train), lr_gs.score(X_test,y_test)"
   ]
  },
  {
   "cell_type": "code",
   "execution_count": 15,
   "id": "f0958e64-290d-4794-ad08-c6ece53ed1c1",
   "metadata": {
    "execution": {
     "iopub.execute_input": "2021-11-08T01:12:40.428807Z",
     "iopub.status.busy": "2021-11-08T01:12:40.428807Z",
     "iopub.status.idle": "2021-11-08T01:12:41.311536Z",
     "shell.execute_reply": "2021-11-08T01:12:41.311536Z",
     "shell.execute_reply.started": "2021-11-08T01:12:40.428807Z"
    },
    "tags": []
   },
   "outputs": [
    {
     "data": {
      "image/png": "[encoded data removed]",
      "text/plain": [
       "<Figure size 576x576 with 2 Axes>"
      ]
     },
     "metadata": {
      "needs_background": "light"
     },
     "output_type": "display_data"
    }
   ],
   "source": [
    "#plot the confusion matrix\n",
    "f, ax = plt.subplots(1,1,figsize=(8,8))\n",
    "plt.suptitle('Confusion Matrix for Logistic Regression', y = .90, fontsize=16)\n",
    "plot_confusion_matrix(lr_gs,X_test,y_test,cmap='viridis',display_labels=matrix_labels, ax=ax);"
   ]
  },
  {
   "cell_type": "code",
   "execution_count": 16,
   "id": "6c43d59a-a5e3-4f00-a8f9-a25c46353a3e",
   "metadata": {
    "execution": {
     "iopub.execute_input": "2021-11-08T01:12:41.311536Z",
     "iopub.status.busy": "2021-11-08T01:12:41.311536Z",
     "iopub.status.idle": "2021-11-08T01:12:42.076234Z",
     "shell.execute_reply": "2021-11-08T01:12:42.076234Z",
     "shell.execute_reply.started": "2021-11-08T01:12:41.311536Z"
    },
    "tags": []
   },
   "outputs": [
    {
     "data": {
      "image/png": "[encoded data removed]",
      "text/plain": [
       "<Figure size 576x576 with 1 Axes>"
      ]
     },
     "metadata": {
      "needs_background": "light"
     },
     "output_type": "display_data"
    }
   ],
   "source": [
    "#plot roc curve:\n",
    "f, ax = plt.subplots(1,1,figsize=(8,8))\n",
    "f.suptitle('ROC Curve for Logistic Regression', y = 0.95, fontsize=16)\n",
    "plot_roc_curve(lr_gs,X_test,y_test,name='Logistic Regression w/ TFIDF text vectorization', ax=ax);"
   ]
  },
  {
   "cell_type": "markdown",
   "id": "25a1f389-d446-42a4-adcc-02f1a68c6c56",
   "metadata": {},
   "source": [
    "---\n",
    "\n",
    "### K-Nearest Neighbors"
   ]
  },
  {
   "cell_type": "code",
   "execution_count": 17,
   "id": "c5ec4be7-df58-4ea3-bd9c-9d72fced9ca4",
   "metadata": {
    "execution": {
     "iopub.execute_input": "2021-11-08T01:12:42.076234Z",
     "iopub.status.busy": "2021-11-08T01:12:42.076234Z",
     "iopub.status.idle": "2021-11-08T01:31:23.343492Z",
     "shell.execute_reply": "2021-11-08T01:31:23.341365Z",
     "shell.execute_reply.started": "2021-11-08T01:12:42.076234Z"
    },
    "tags": []
   },
   "outputs": [
    {
     "data": {
      "text/plain": [
       "GridSearchCV(cv=5,\n",
       "             estimator=Pipeline(steps=[('tfidf', TfidfVectorizer()),\n",
       "                                       ('knn', KNeighborsClassifier())]),\n",
       "             n_jobs=-1,\n",
       "             param_grid={'knn__n_neighbors': [3, 5, 7, 9],\n",
       "                         'tfidf__max_df': [0.9, 0.95],\n",
       "                         'tfidf__max_features': [2000, 3500, 5000],\n",
       "                         'tfidf__min_df': [2, 3],\n",
       "                         'tfidf__ngram_range': [(1, 1), (1, 2)],\n",
       "                         'tfidf__stop_words': ['english',\n",
       "                                               frozenset({'a', 'about', 'above',\n",
       "                                                          'across', 'after',\n",
       "                                                          'afterwards', 'again',\n",
       "                                                          'against', 'all',\n",
       "                                                          'almost', 'alone',\n",
       "                                                          'along', 'already',\n",
       "                                                          'also', 'although',\n",
       "                                                          'always', 'am', 'ama',\n",
       "                                                          'among', 'amongst',\n",
       "                                                          'amoungst', 'amount',\n",
       "                                                          'an', 'and',\n",
       "                                                          'another', 'any',\n",
       "                                                          'anyhow', 'anyone',\n",
       "                                                          'anything', 'anyway', ...})]})"
      ]
     },
     "execution_count": 17,
     "metadata": {},
     "output_type": "execute_result"
    }
   ],
   "source": [
    "#instantiate pipeline:\n",
    "knn_pipe = Pipeline([\n",
    "    ('tfidf', TfidfVectorizer()),\n",
    "    ('knn', KNeighborsClassifier())\n",
    "])\n",
    "\n",
    "#set pipeline parameters:\n",
    "knn_pipe_params = {\n",
    "    'tfidf__stop_words': ['english',stopwords],\n",
    "    'tfidf__max_features': [2000,3500,5000],\n",
    "    'tfidf__min_df': [2,3],\n",
    "    'tfidf__max_df': [.9, .95],\n",
    "    'tfidf__ngram_range': [(1,1), (1,2)],\n",
    "    'knn__n_neighbors': [3,5,7,9],\n",
    "}\n",
    "\n",
    "#instantiate gridsearch cv:\n",
    "knn_gs = GridSearchCV(knn_pipe,\n",
    "                      knn_pipe_params,\n",
    "                      cv = 5,\n",
    "                      n_jobs=-1)\n",
    "\n",
    "#fit gridsearch:\n",
    "knn_gs.fit(X_train,y_train)"
   ]
  },
  {
   "cell_type": "code",
   "execution_count": 18,
   "id": "88118635-adeb-47fa-877b-f37d1d9aaf8a",
   "metadata": {
    "execution": {
     "iopub.execute_input": "2021-11-08T01:31:23.343492Z",
     "iopub.status.busy": "2021-11-08T01:31:23.343492Z",
     "iopub.status.idle": "2021-11-08T01:31:33.617696Z",
     "shell.execute_reply": "2021-11-08T01:31:33.617696Z",
     "shell.execute_reply.started": "2021-11-08T01:31:23.343492Z"
    },
    "tags": []
   },
   "outputs": [
    {
     "name": "stdout",
     "output_type": "stream",
     "text": [
      "{'train': 0.5055150178177499, 'test': 0.5034359888012216}\n"
     ]
    }
   ],
   "source": [
    "#first add the accuracy score to our scorekeeping variable:\n",
    "accuracies['knn'] = {'train': knn_gs.score(X_train,y_train), 'test':knn_gs.score(X_test,y_test) }\n",
    "print(accuracies['knn'])"
   ]
  },
  {
   "cell_type": "markdown",
   "id": "ef743ce7-80be-4b3c-9b94-3fae66e17a85",
   "metadata": {},
   "source": [
    "Ouch. K-Nearest Neighors does not look to be very good at predicting which subreddit our posts belong in."
   ]
  },
  {
   "cell_type": "code",
   "execution_count": 19,
   "id": "1400d2e8-4264-42c5-b370-0da57a81e4c5",
   "metadata": {
    "execution": {
     "iopub.execute_input": "2021-11-08T01:31:33.619736Z",
     "iopub.status.busy": "2021-11-08T01:31:33.619736Z",
     "iopub.status.idle": "2021-11-08T01:31:33.637963Z",
     "shell.execute_reply": "2021-11-08T01:31:33.637963Z",
     "shell.execute_reply.started": "2021-11-08T01:31:33.619736Z"
    }
   },
   "outputs": [
    {
     "data": {
      "text/plain": [
       "0.5715242669499438"
      ]
     },
     "execution_count": 19,
     "metadata": {},
     "output_type": "execute_result"
    }
   ],
   "source": [
    "knn_gs.best_score_"
   ]
  },
  {
   "cell_type": "code",
   "execution_count": 20,
   "id": "089b338b-599c-42d6-b55d-6feabee85407",
   "metadata": {
    "execution": {
     "iopub.execute_input": "2021-11-08T01:31:33.637963Z",
     "iopub.status.busy": "2021-11-08T01:31:33.637963Z",
     "iopub.status.idle": "2021-11-08T01:31:33.658284Z",
     "shell.execute_reply": "2021-11-08T01:31:33.658284Z",
     "shell.execute_reply.started": "2021-11-08T01:31:33.637963Z"
    },
    "tags": []
   },
   "outputs": [
    {
     "data": {
      "text/plain": [
       "{'knn__n_neighbors': 9,\n",
       " 'tfidf__max_df': 0.9,\n",
       " 'tfidf__max_features': 5000,\n",
       " 'tfidf__min_df': 3,\n",
       " 'tfidf__ngram_range': (1, 1),\n",
       " 'tfidf__stop_words': 'english'}"
      ]
     },
     "execution_count": 20,
     "metadata": {},
     "output_type": "execute_result"
    }
   ],
   "source": [
    "knn_gs.best_params_"
   ]
  },
  {
   "cell_type": "markdown",
   "id": "d2ada5ab-c248-4d89-bb06-1891408d5cc2",
   "metadata": {},
   "source": [
    "With a much lower best score, and using only unigrams, KNN is clearly not very good at making these predictions."
   ]
  },
  {
   "cell_type": "code",
   "execution_count": 21,
   "id": "671bdc91-77c6-407f-93db-f83b4b19e86d",
   "metadata": {
    "execution": {
     "iopub.execute_input": "2021-11-08T01:31:33.658284Z",
     "iopub.status.busy": "2021-11-08T01:31:33.658284Z",
     "iopub.status.idle": "2021-11-08T01:31:43.776850Z",
     "shell.execute_reply": "2021-11-08T01:31:43.776850Z",
     "shell.execute_reply.started": "2021-11-08T01:31:33.658284Z"
    }
   },
   "outputs": [
    {
     "data": {
      "text/plain": [
       "(0.5055150178177499, 0.5034359888012216)"
      ]
     },
     "execution_count": 21,
     "metadata": {},
     "output_type": "execute_result"
    }
   ],
   "source": [
    "knn_gs.score(X_train,y_train), knn_gs.score(X_test,y_test)"
   ]
  },
  {
   "cell_type": "code",
   "execution_count": 22,
   "id": "e0be3a5e-0589-4942-b00d-a9377dac14e4",
   "metadata": {
    "execution": {
     "iopub.execute_input": "2021-11-08T01:31:43.778891Z",
     "iopub.status.busy": "2021-11-08T01:31:43.778891Z",
     "iopub.status.idle": "2021-11-08T01:31:46.464938Z",
     "shell.execute_reply": "2021-11-08T01:31:46.464938Z",
     "shell.execute_reply.started": "2021-11-08T01:31:43.778891Z"
    },
    "tags": []
   },
   "outputs": [
    {
     "data": {
      "image/png": "[encoded data removed]",
      "text/plain": [
       "<Figure size 576x576 with 2 Axes>"
      ]
     },
     "metadata": {
      "needs_background": "light"
     },
     "output_type": "display_data"
    }
   ],
   "source": [
    "#plot the confusion matrix\n",
    "f, ax = plt.subplots(1,1,figsize=(8,8))\n",
    "plt.suptitle('Confusion Matrix for KNN with n = 9', y = .90, fontsize=16)\n",
    "plot_confusion_matrix(knn_gs,X_test,y_test,cmap='viridis',display_labels=matrix_labels, ax=ax);"
   ]
  },
  {
   "cell_type": "code",
   "execution_count": 23,
   "id": "a28a7416-5532-4b2c-ad1a-871335a2e68d",
   "metadata": {
    "execution": {
     "iopub.execute_input": "2021-11-08T01:31:46.466975Z",
     "iopub.status.busy": "2021-11-08T01:31:46.466975Z",
     "iopub.status.idle": "2021-11-08T01:31:48.982520Z",
     "shell.execute_reply": "2021-11-08T01:31:48.982520Z",
     "shell.execute_reply.started": "2021-11-08T01:31:46.466975Z"
    }
   },
   "outputs": [
    {
     "data": {
      "image/png": "[encoded data removed]",
      "text/plain": [
       "<Figure size 576x576 with 1 Axes>"
      ]
     },
     "metadata": {
      "needs_background": "light"
     },
     "output_type": "display_data"
    }
   ],
   "source": [
    "#plot roc curve:\n",
    "f, ax = plt.subplots(1,1,figsize=(8,8))\n",
    "f.suptitle('ROC Curve for K-Nearest Neighbors Classification', y = 0.95, fontsize=16)\n",
    "plot_roc_curve(knn_gs,X_test,y_test,name='KNN for n = 9 w/ TFIDF text vectorization', ax=ax);"
   ]
  },
  {
   "cell_type": "markdown",
   "id": "fe226153-82ac-4ec6-96f3-3e6ff0662555",
   "metadata": {},
   "source": [
    "---\n",
    "\n",
    "### XGBoost"
   ]
  },
  {
   "cell_type": "code",
   "execution_count": 24,
   "id": "6865d43f-c5db-4817-aa2d-01b13eef7db6",
   "metadata": {
    "execution": {
     "iopub.execute_input": "2021-11-08T01:31:48.982520Z",
     "iopub.status.busy": "2021-11-08T01:31:48.982520Z",
     "iopub.status.idle": "2021-11-08T01:38:22.060427Z",
     "shell.execute_reply": "2021-11-08T01:38:22.060427Z",
     "shell.execute_reply.started": "2021-11-08T01:31:48.982520Z"
    },
    "tags": []
   },
   "outputs": [
    {
     "name": "stderr",
     "output_type": "stream",
     "text": [
      "C:\\Users\\yumst\\anaconda3\\lib\\site-packages\\xgboost\\sklearn.py:1224: UserWarning: The use of label encoder in XGBClassifier is deprecated and will be removed in a future release. To remove this warning, do the following: 1) Pass option use_label_encoder=False when constructing XGBClassifier object; and 2) Encode your labels (y) as integers starting with 0, i.e. 0, 1, 2, ..., [num_class - 1].\n",
      "  warnings.warn(label_encoder_deprecation_msg, UserWarning)\n"
     ]
    },
    {
     "name": "stdout",
     "output_type": "stream",
     "text": [
      "[18:38:14] WARNING: C:/Users/Administrator/workspace/xgboost-win64_release_1.5.0/src/learner.cc:1115: Starting in XGBoost 1.3.0, the default evaluation metric used with the objective 'binary:logistic' was changed from 'error' to 'logloss'. Explicitly set eval_metric if you'd like to restore the old behavior.\n"
     ]
    },
    {
     "data": {
      "text/plain": [
       "GridSearchCV(cv=5,\n",
       "             estimator=Pipeline(steps=[('tfidf', TfidfVectorizer()),\n",
       "                                       ('xgbc',\n",
       "                                        XGBClassifier(base_score=None,\n",
       "                                                      booster=None,\n",
       "                                                      colsample_bylevel=None,\n",
       "                                                      colsample_bynode=None,\n",
       "                                                      colsample_bytree=None,\n",
       "                                                      enable_categorical=False,\n",
       "                                                      gamma=None, gpu_id=None,\n",
       "                                                      importance_type=None,\n",
       "                                                      interaction_constraints=None,\n",
       "                                                      learning_rate=None,\n",
       "                                                      max_delta_step=None,\n",
       "                                                      max_depth=None,\n",
       "                                                      min_chil...\n",
       "                         'tfidf__stop_words': ['english',\n",
       "                                               frozenset({'a', 'about', 'above',\n",
       "                                                          'across', 'after',\n",
       "                                                          'afterwards', 'again',\n",
       "                                                          'against', 'all',\n",
       "                                                          'almost', 'alone',\n",
       "                                                          'along', 'already',\n",
       "                                                          'also', 'although',\n",
       "                                                          'always', 'am', 'ama',\n",
       "                                                          'among', 'amongst',\n",
       "                                                          'amoungst', 'amount',\n",
       "                                                          'an', 'and',\n",
       "                                                          'another', 'any',\n",
       "                                                          'anyhow', 'anyone',\n",
       "                                                          'anything', 'anyway', ...})],\n",
       "                         'xgbc__max_depth': [3, 5],\n",
       "                         'xgbc__min_child_weight': [1, 10]})"
      ]
     },
     "execution_count": 24,
     "metadata": {},
     "output_type": "execute_result"
    }
   ],
   "source": [
    "#instantiate pipeline\n",
    "xgb_pipe = Pipeline([\n",
    "    ('tfidf', TfidfVectorizer()),\n",
    "    ('xgbc', XGBClassifier())\n",
    "])\n",
    "\n",
    "#set pipeline parameters:\n",
    "xgb_pipe_params = {\n",
    "    'tfidf__stop_words': ['english',stopwords],\n",
    "    'tfidf__max_features': [5000],\n",
    "    'tfidf__min_df': [3],\n",
    "    'tfidf__max_df': [.9],\n",
    "    'tfidf__ngram_range': [(1,1), (1,2)],\n",
    "    'xgbc__max_depth': [3,5],\n",
    "    'xgbc__min_child_weight': [1,10]\n",
    "}\n",
    "\n",
    "#instantiate gridsearchcv:\n",
    "xgb_gs = GridSearchCV(xgb_pipe,\n",
    "                      xgb_pipe_params,\n",
    "                      cv=5,\n",
    "                      n_jobs=-1)\n",
    "\n",
    "#fit gridsearch:\n",
    "xgb_gs.fit(X_train,y_train)"
   ]
  },
  {
   "cell_type": "code",
   "execution_count": 25,
   "id": "d303ca27-6cc2-4f07-8278-6f975ec229b2",
   "metadata": {
    "execution": {
     "iopub.execute_input": "2021-11-08T01:38:22.060427Z",
     "iopub.status.busy": "2021-11-08T01:38:22.060427Z",
     "iopub.status.idle": "2021-11-08T01:38:24.759699Z",
     "shell.execute_reply": "2021-11-08T01:38:24.759699Z",
     "shell.execute_reply.started": "2021-11-08T01:38:22.060427Z"
    },
    "tags": []
   },
   "outputs": [
    {
     "name": "stdout",
     "output_type": "stream",
     "text": [
      "{'train': 0.9114203292041405, 'test': 0.8136930516670908}\n"
     ]
    }
   ],
   "source": [
    "#first add the accuracy score to our scorekeeping variable:\n",
    "accuracies['xgbc'] = {'train': xgb_gs.score(X_train,y_train), 'test': xgb_gs.score(X_test,y_test)}\n",
    "print(accuracies['xgbc'])"
   ]
  },
  {
   "cell_type": "code",
   "execution_count": 26,
   "id": "b5594557-2abb-467b-870a-e98f1c638a9b",
   "metadata": {
    "execution": {
     "iopub.execute_input": "2021-11-08T01:38:24.761731Z",
     "iopub.status.busy": "2021-11-08T01:38:24.761731Z",
     "iopub.status.idle": "2021-11-08T01:38:24.779867Z",
     "shell.execute_reply": "2021-11-08T01:38:24.779867Z",
     "shell.execute_reply.started": "2021-11-08T01:38:24.761731Z"
    }
   },
   "outputs": [
    {
     "data": {
      "text/plain": [
       "0.8134217711089592"
      ]
     },
     "execution_count": 26,
     "metadata": {},
     "output_type": "execute_result"
    }
   ],
   "source": [
    "xgb_gs.best_score_"
   ]
  },
  {
   "cell_type": "code",
   "execution_count": 27,
   "id": "502aa989-c36a-448a-85da-ec42ee9292c6",
   "metadata": {
    "execution": {
     "iopub.execute_input": "2021-11-08T01:38:24.789942Z",
     "iopub.status.busy": "2021-11-08T01:38:24.789942Z",
     "iopub.status.idle": "2021-11-08T01:38:24.800305Z",
     "shell.execute_reply": "2021-11-08T01:38:24.799982Z",
     "shell.execute_reply.started": "2021-11-08T01:38:24.789942Z"
    },
    "tags": []
   },
   "outputs": [
    {
     "data": {
      "text/plain": [
       "{'tfidf__max_df': 0.9,\n",
       " 'tfidf__max_features': 5000,\n",
       " 'tfidf__min_df': 3,\n",
       " 'tfidf__ngram_range': (1, 2),\n",
       " 'tfidf__stop_words': 'english',\n",
       " 'xgbc__max_depth': 5,\n",
       " 'xgbc__min_child_weight': 1}"
      ]
     },
     "execution_count": 27,
     "metadata": {},
     "output_type": "execute_result"
    }
   ],
   "source": [
    "xgb_gs.best_params_"
   ]
  },
  {
   "cell_type": "code",
   "execution_count": 28,
   "id": "78265c7c-0f41-4736-9c77-11491456f295",
   "metadata": {
    "execution": {
     "iopub.execute_input": "2021-11-08T01:38:24.802338Z",
     "iopub.status.busy": "2021-11-08T01:38:24.802338Z",
     "iopub.status.idle": "2021-11-08T01:38:27.410531Z",
     "shell.execute_reply": "2021-11-08T01:38:27.410531Z",
     "shell.execute_reply.started": "2021-11-08T01:38:24.802338Z"
    }
   },
   "outputs": [
    {
     "data": {
      "text/plain": [
       "(0.9114203292041405, 0.8136930516670908)"
      ]
     },
     "execution_count": 28,
     "metadata": {},
     "output_type": "execute_result"
    }
   ],
   "source": [
    "xgb_gs.score(X_train,y_train), xgb_gs.score(X_test,y_test)"
   ]
  },
  {
   "cell_type": "code",
   "execution_count": 29,
   "id": "1eda995b-e80c-48be-affa-3bc770ee7876",
   "metadata": {
    "execution": {
     "iopub.execute_input": "2021-11-08T01:38:27.412558Z",
     "iopub.status.busy": "2021-11-08T01:38:27.412558Z",
     "iopub.status.idle": "2021-11-08T01:38:28.369509Z",
     "shell.execute_reply": "2021-11-08T01:38:28.369509Z",
     "shell.execute_reply.started": "2021-11-08T01:38:27.412558Z"
    }
   },
   "outputs": [
    {
     "data": {
      "image/png": "[encoded data removed]",
      "text/plain": [
       "<Figure size 576x576 with 2 Axes>"
      ]
     },
     "metadata": {
      "needs_background": "light"
     },
     "output_type": "display_data"
    }
   ],
   "source": [
    "#plot the confusion matrix\n",
    "f, ax = plt.subplots(1,1,figsize=(8,8))\n",
    "plt.suptitle('Confusion Matrix for XGBoost Ensemble', y = .90, fontsize=16)\n",
    "plot_confusion_matrix(xgb_gs,X_test,y_test,cmap='viridis',display_labels=matrix_labels, ax=ax);"
   ]
  },
  {
   "cell_type": "code",
   "execution_count": 30,
   "id": "0065332a-2ec2-4680-8510-1e7adc7f1cdb",
   "metadata": {
    "execution": {
     "iopub.execute_input": "2021-11-08T01:38:28.369509Z",
     "iopub.status.busy": "2021-11-08T01:38:28.369509Z",
     "iopub.status.idle": "2021-11-08T01:38:30.925567Z",
     "shell.execute_reply": "2021-11-08T01:38:30.925567Z",
     "shell.execute_reply.started": "2021-11-08T01:38:28.369509Z"
    }
   },
   "outputs": [
    {
     "data": {
      "image/png": "[encoded data removed]",
      "text/plain": [
       "<Figure size 576x576 with 1 Axes>"
      ]
     },
     "metadata": {
      "needs_background": "light"
     },
     "output_type": "display_data"
    }
   ],
   "source": [
    "#plot roc curve:\n",
    "f, ax = plt.subplots(1,1,figsize=(8,8))\n",
    "f.suptitle('ROC Curve for XGBoost Ensemble Classification', y = 0.95, fontsize=16)\n",
    "plot_roc_curve(knn_gs,X_test,y_test,name='XGBoost w/ TFIDF text vectorization', ax=ax);"
   ]
  },
  {
   "cell_type": "markdown",
   "id": "0b7ddd49-afe4-49d8-abd6-416baf081107",
   "metadata": {},
   "source": [
    "---\n",
    "\n",
    "## Evaluate"
   ]
  },
  {
   "cell_type": "code",
   "execution_count": 31,
   "id": "8d3c01dd-2c84-4716-8558-e65c3480fdf5",
   "metadata": {
    "execution": {
     "iopub.execute_input": "2021-11-08T01:38:30.925567Z",
     "iopub.status.busy": "2021-11-08T01:38:30.925567Z",
     "iopub.status.idle": "2021-11-08T01:38:30.967079Z",
     "shell.execute_reply": "2021-11-08T01:38:30.967079Z",
     "shell.execute_reply.started": "2021-11-08T01:38:30.925567Z"
    },
    "tags": []
   },
   "outputs": [],
   "source": [
    "results = pd.DataFrame(accuracies).T"
   ]
  },
  {
   "cell_type": "code",
   "execution_count": 32,
   "id": "23bf1dad-5c00-49bc-968a-75d276a6d273",
   "metadata": {
    "execution": {
     "iopub.execute_input": "2021-11-08T01:38:30.967079Z",
     "iopub.status.busy": "2021-11-08T01:38:30.967079Z",
     "iopub.status.idle": "2021-11-08T01:38:30.998443Z",
     "shell.execute_reply": "2021-11-08T01:38:30.998443Z",
     "shell.execute_reply.started": "2021-11-08T01:38:30.967079Z"
    },
    "tags": []
   },
   "outputs": [],
   "source": [
    "results['diff'] = results['train'] - results['test']"
   ]
  },
  {
   "cell_type": "code",
   "execution_count": 33,
   "id": "d3be2d27-983a-4f46-bae3-761afef60b44",
   "metadata": {
    "execution": {
     "iopub.execute_input": "2021-11-08T01:38:30.998443Z",
     "iopub.status.busy": "2021-11-08T01:38:30.998443Z",
     "iopub.status.idle": "2021-11-08T01:38:31.349308Z",
     "shell.execute_reply": "2021-11-08T01:38:31.349308Z",
     "shell.execute_reply.started": "2021-11-08T01:38:30.998443Z"
    },
    "tags": []
   },
   "outputs": [
    {
     "data": {
      "image/png": "[encoded data removed]",
      "text/plain": [
       "<Figure size 1080x360 with 3 Axes>"
      ]
     },
     "metadata": {},
     "output_type": "display_data"
    }
   ],
   "source": [
    "with sns.axes_style(\"darkgrid\"):\n",
    "    fig, axs = plt.subplots(1,3,figsize=(15,5))\n",
    "    \n",
    "    fig.suptitle('Classifier accuracy results from Logistic Regression, KNearest Neighbors, and XGBoosted Ensemble' + \\\n",
    "                 '\\nRed lines denote baseline accuracy')\n",
    "    \n",
    "    #plot train:\n",
    "    axs[0].axhline(y=results.loc['baseline','train'], color='red')\n",
    "    sns.barplot(x=results.index[1:],y=results['train'][1:],ax=axs[0])\n",
    "    \n",
    "    \n",
    "    #plot test:\n",
    "    axs[1].axhline(y=results.loc['baseline','test'], color = 'red')\n",
    "    sns.barplot(x=results.index[1:],y=results['test'][1:],ax=axs[1])\n",
    "    \n",
    "    \n",
    "    #plot difference:\n",
    "    sns.barplot(x=results.index[1:],y=results['diff'][1:],ax=axs[2])"
   ]
  },
  {
   "cell_type": "markdown",
   "id": "75f1cb40-553a-4008-a1d2-9cc922b79a18",
   "metadata": {},
   "source": [
    "Despite having remarkably low variance, the **K-Nearest Neighbors** classifier resulted in predictions that were worse than the established baseline. It's probably safe to say it's not a competitive contender for the best classifier among these three.\n",
    "\n",
    "**Logistic Regression** and **XGBoosted Ensemble** produced similar accuracies in predicting the test data. However, the variance in score between training and testing data was nearly double for XGBoost compared to Logistic Regression.\n",
    "\n",
    "So we'll use Logistic Regression as our production model to determine which words are most commonly associated with unpopular opinions."
   ]
  }
 ],
 "metadata": {
  "kernelspec": {
   "display_name": "Python 3",
   "language": "python",
   "name": "python3"
  },
  "language_info": {
   "codemirror_mode": {
    "name": "ipython",
    "version": 3
   },
   "file_extension": ".py",
   "mimetype": "text/x-python",
   "name": "python",
   "nbconvert_exporter": "python",
   "pygments_lexer": "ipython3",
   "version": "3.8.8"
  }
 },
 "nbformat": 4,
 "nbformat_minor": 5
}
