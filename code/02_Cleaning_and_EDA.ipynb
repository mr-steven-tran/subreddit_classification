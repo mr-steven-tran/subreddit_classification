{
 "cells": [
  {
   "cell_type": "markdown",
   "id": "b5384072-7226-4220-8a4a-9b0c209a39f2",
   "metadata": {},
   "source": [
    "## Project 3 - Subreddit \n",
    "### by Steven Tran\n",
    "\n",
    "<span style='color: red;'>Add TOC when available</span>"
   ]
  },
  {
   "cell_type": "markdown",
   "id": "30783d8b-4c63-4f1d-ae2b-6f8f51df4915",
   "metadata": {},
   "source": [
    "---\n",
    "\n",
    "# 02: Cleaning and EDA\n"
   ]
  },
  {
   "cell_type": "code",
   "execution_count": 1,
   "id": "97b13e7f-6415-451a-be8c-9046e5d1faa4",
   "metadata": {
    "execution": {
     "iopub.execute_input": "2021-11-03T21:13:24.069071Z",
     "iopub.status.busy": "2021-11-03T21:13:24.062589Z",
     "iopub.status.idle": "2021-11-03T21:13:26.410436Z",
     "shell.execute_reply": "2021-11-03T21:13:26.409423Z",
     "shell.execute_reply.started": "2021-11-03T21:13:24.066589Z"
    },
    "tags": []
   },
   "outputs": [],
   "source": [
    "# imports:\n",
    "import pandas as pd, numpy as np, matplotlib.pyplot as plt, seaborn as sns"
   ]
  },
  {
   "cell_type": "code",
   "execution_count": 2,
   "id": "e47736d9-f0ab-43ae-bdd2-fb4e0f8a6f70",
   "metadata": {
    "execution": {
     "iopub.execute_input": "2021-11-03T21:13:26.415432Z",
     "iopub.status.busy": "2021-11-03T21:13:26.415432Z",
     "iopub.status.idle": "2021-11-03T21:13:26.679721Z",
     "shell.execute_reply": "2021-11-03T21:13:26.678722Z",
     "shell.execute_reply.started": "2021-11-03T21:13:26.415432Z"
    },
    "tags": []
   },
   "outputs": [],
   "source": [
    "# read in data:\n",
    "pf = pd.read_csv('../data/posts__personal_finance.csv')"
   ]
  },
  {
   "cell_type": "code",
   "execution_count": 3,
   "id": "1434faf6-4a9a-4c06-84d9-d1cef067d42f",
   "metadata": {
    "execution": {
     "iopub.execute_input": "2021-11-03T21:13:26.681718Z",
     "iopub.status.busy": "2021-11-03T21:13:26.681718Z",
     "iopub.status.idle": "2021-11-03T21:13:26.712726Z",
     "shell.execute_reply": "2021-11-03T21:13:26.710755Z",
     "shell.execute_reply.started": "2021-11-03T21:13:26.681718Z"
    },
    "tags": []
   },
   "outputs": [
    {
     "data": {
      "text/html": [
       "<div>\n",
       "<style scoped>\n",
       "    .dataframe tbody tr th:only-of-type {\n",
       "        vertical-align: middle;\n",
       "    }\n",
       "\n",
       "    .dataframe tbody tr th {\n",
       "        vertical-align: top;\n",
       "    }\n",
       "\n",
       "    .dataframe thead th {\n",
       "        text-align: right;\n",
       "    }\n",
       "</style>\n",
       "<table border=\"1\" class=\"dataframe\">\n",
       "  <thead>\n",
       "    <tr style=\"text-align: right;\">\n",
       "      <th></th>\n",
       "      <th>index</th>\n",
       "      <th>id</th>\n",
       "      <th>subreddit</th>\n",
       "      <th>author</th>\n",
       "      <th>title</th>\n",
       "      <th>selftext</th>\n",
       "      <th>created_utc</th>\n",
       "    </tr>\n",
       "  </thead>\n",
       "  <tbody>\n",
       "    <tr>\n",
       "      <th>0</th>\n",
       "      <td>0</td>\n",
       "      <td>ko0vl8</td>\n",
       "      <td>personalfinance</td>\n",
       "      <td>Lonely-Judge-350</td>\n",
       "      <td>What is the general consensus on Mortgage Brok...</td>\n",
       "      <td>Hey everyone,   \\n\\n\\nWhile I'm a few years aw...</td>\n",
       "      <td>1609458670</td>\n",
       "    </tr>\n",
       "    <tr>\n",
       "      <th>1</th>\n",
       "      <td>1</td>\n",
       "      <td>ko0q65</td>\n",
       "      <td>personalfinance</td>\n",
       "      <td>whats_a_handle</td>\n",
       "      <td>Should we pay more for a bigger backyard?</td>\n",
       "      <td>Just bought a house and the backyard extends 3...</td>\n",
       "      <td>1609458116</td>\n",
       "    </tr>\n",
       "    <tr>\n",
       "      <th>2</th>\n",
       "      <td>2</td>\n",
       "      <td>ko0ooi</td>\n",
       "      <td>personalfinance</td>\n",
       "      <td>ddb3320</td>\n",
       "      <td>18 with $10000, what should I do?</td>\n",
       "      <td>I have been working since I was 14 and saved m...</td>\n",
       "      <td>1609457961</td>\n",
       "    </tr>\n",
       "  </tbody>\n",
       "</table>\n",
       "</div>"
      ],
      "text/plain": [
       "   index      id        subreddit            author  \\\n",
       "0      0  ko0vl8  personalfinance  Lonely-Judge-350   \n",
       "1      1  ko0q65  personalfinance    whats_a_handle   \n",
       "2      2  ko0ooi  personalfinance           ddb3320   \n",
       "\n",
       "                                               title  \\\n",
       "0  What is the general consensus on Mortgage Brok...   \n",
       "1          Should we pay more for a bigger backyard?   \n",
       "2                  18 with $10000, what should I do?   \n",
       "\n",
       "                                            selftext  created_utc  \n",
       "0  Hey everyone,   \\n\\n\\nWhile I'm a few years aw...   1609458670  \n",
       "1  Just bought a house and the backyard extends 3...   1609458116  \n",
       "2  I have been working since I was 14 and saved m...   1609457961  "
      ]
     },
     "execution_count": 3,
     "metadata": {},
     "output_type": "execute_result"
    }
   ],
   "source": [
    "pf.head(3)"
   ]
  },
  {
   "cell_type": "markdown",
   "id": "b8dd66b7-a563-4c25-94e5-ab1424c56e3b",
   "metadata": {},
   "source": [
    "---\n",
    "\n",
    "### Clean up `title` and `selftext`"
   ]
  },
  {
   "cell_type": "code",
   "execution_count": null,
   "id": "0392a878-9776-4203-91d2-57557200d722",
   "metadata": {},
   "outputs": [],
   "source": []
  },
  {
   "cell_type": "code",
   "execution_count": null,
   "id": "217ac433-01d2-4a66-b728-3b8fde457b84",
   "metadata": {},
   "outputs": [],
   "source": []
  },
  {
   "cell_type": "code",
   "execution_count": null,
   "id": "59a12f95-c194-4aea-a2f8-363925081d34",
   "metadata": {},
   "outputs": [],
   "source": []
  },
  {
   "cell_type": "markdown",
   "id": "b0dec7c0-997c-4554-bfa0-fb4e7275d011",
   "metadata": {},
   "source": [
    "---\n",
    "\n",
    "### Reformat dates"
   ]
  },
  {
   "cell_type": "code",
   "execution_count": null,
   "id": "169b88da-54c0-4b89-9de5-9e16ba7850a3",
   "metadata": {},
   "outputs": [],
   "source": []
  },
  {
   "cell_type": "code",
   "execution_count": null,
   "id": "4fb48537-cb0b-41e1-bd63-62893056a8a4",
   "metadata": {},
   "outputs": [],
   "source": []
  },
  {
   "cell_type": "markdown",
   "id": "1890fd1d-8ff2-41fe-af0a-02702fdd1129",
   "metadata": {},
   "source": [
    "---\n",
    "\n",
    "## EDA\n",
    "\n",
    "(paragraph about EDA steps)"
   ]
  },
  {
   "cell_type": "code",
   "execution_count": null,
   "id": "ee422916-62ee-45b2-9620-1b05008c99b7",
   "metadata": {},
   "outputs": [],
   "source": []
  }
 ],
 "metadata": {
  "kernelspec": {
   "display_name": "Python 3",
   "language": "python",
   "name": "python3"
  },
  "language_info": {
   "codemirror_mode": {
    "name": "ipython",
    "version": 3
   },
   "file_extension": ".py",
   "mimetype": "text/x-python",
   "name": "python",
   "nbconvert_exporter": "python",
   "pygments_lexer": "ipython3",
   "version": "3.8.8"
  }
 },
 "nbformat": 4,
 "nbformat_minor": 5
}
