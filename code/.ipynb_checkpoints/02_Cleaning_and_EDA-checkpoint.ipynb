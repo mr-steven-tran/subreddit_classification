{
 "cells": [
  {
   "cell_type": "markdown",
   "id": "b5384072-7226-4220-8a4a-9b0c209a39f2",
   "metadata": {},
   "source": [
    "## Project 3 - Subreddit \n",
    "### by Steven Tran\n",
    "\n",
    "<span style='color: red;'>Add TOC when available</span>"
   ]
  },
  {
   "cell_type": "markdown",
   "id": "30783d8b-4c63-4f1d-ae2b-6f8f51df4915",
   "metadata": {},
   "source": [
    "---\n",
    "\n",
    "# 02: Cleaning and EDA\n"
   ]
  }
 ],
 "metadata": {
  "kernelspec": {
   "display_name": "Python 3",
   "language": "python",
   "name": "python3"
  },
  "language_info": {
   "codemirror_mode": {
    "name": "ipython",
    "version": 3
   },
   "file_extension": ".py",
   "mimetype": "text/x-python",
   "name": "python",
   "nbconvert_exporter": "python",
   "pygments_lexer": "ipython3",
   "version": "3.8.8"
  }
 },
 "nbformat": 4,
 "nbformat_minor": 5
}
