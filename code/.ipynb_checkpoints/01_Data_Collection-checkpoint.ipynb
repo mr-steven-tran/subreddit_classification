{
 "cells": [
  {
   "cell_type": "markdown",
   "id": "b5384072-7226-4220-8a4a-9b0c209a39f2",
   "metadata": {},
   "source": [
    "## Project 3 - Subreddit \n",
    "### by Steven Tran\n",
    "\n",
    "<span style='color: red;'>Add TOC when available</span>"
   ]
  },
  {
   "cell_type": "markdown",
   "id": "30783d8b-4c63-4f1d-ae2b-6f8f51df4915",
   "metadata": {},
   "source": [
    "---\n",
    "\n",
    "# 01: Data Collection\n",
    "\n",
    "In this notebook, I will collect (X) number of posts from two subreddits. The table below describes the two subredits, and the date range from which user posts were collected:\n",
    "\n",
    "| Subreddit | # of user posts | FROM | TO |\n",
    "|-----------|-----------------|------|----|\n",
    "| [Sub1](#)      |                 |      |    |\n",
    "| [Sub2](#)      |                 |      |    |\n"
   ]
  },
  {
   "cell_type": "code",
   "execution_count": 1,
   "id": "0d0e132c-d9db-4dba-94be-4dc1056c0647",
   "metadata": {
    "execution": {
     "iopub.execute_input": "2021-11-03T19:10:17.174556Z",
     "iopub.status.busy": "2021-11-03T19:10:17.174556Z",
     "iopub.status.idle": "2021-11-03T19:10:17.692180Z",
     "shell.execute_reply": "2021-11-03T19:10:17.692180Z",
     "shell.execute_reply.started": "2021-11-03T19:10:17.174556Z"
    },
    "tags": []
   },
   "outputs": [],
   "source": [
    "import requests, time, pandas as pd, numpy as np"
   ]
  },
  {
   "cell_type": "code",
   "execution_count": 2,
   "id": "175e8afa-c739-4f65-aa4d-ec7fa77f695a",
   "metadata": {
    "execution": {
     "iopub.execute_input": "2021-11-03T19:10:18.127686Z",
     "iopub.status.busy": "2021-11-03T19:10:18.127686Z",
     "iopub.status.idle": "2021-11-03T19:10:18.145422Z",
     "shell.execute_reply": "2021-11-03T19:10:18.144419Z",
     "shell.execute_reply.started": "2021-11-03T19:10:18.127686Z"
    },
    "tags": []
   },
   "outputs": [],
   "source": [
    "#access pushshift api to get reddit posts:\n",
    "base_url = 'https://api.pushshift.io/reddit/search/submission'\n",
    "\n",
    "def get_metadata(subreddit):\n",
    "    meta_params = {\n",
    "        'subreddit': subreddit,\n",
    "        'size': 0,\n",
    "        'metadata': 'true'\n",
    "    }\n",
    "    \n",
    "    res = requests.get(base_url, meta_params)\n",
    "    sub_metadata = res.json()['metadata']\n",
    "    return {'sub_metadata': sub_metadata}\n",
    "\n",
    "def get_posts(subreddit, num_valid_posts = 200):\n",
    "    #define some boundaries:\n",
    "    target_valid_posts = num_valid_posts #200 by default\n",
    "    count_posts_collected = 0\n",
    "    beginning_date = 1609459200 # jan 1 2021 00:00:00 # start at this date and go back in time; UTC\n",
    "    final_df = pd.DataFrame()\n",
    "    times_run = 0\n",
    "    seconds_waited = 0\n",
    "    \n",
    "\n",
    "    if get_metadata(subreddit)['sub_metadata']['total_results'] > target_valid_posts:\n",
    "    #if requests.get(base_url,check_params).json()['metadata']['total_results'] > target_valid_posts:\n",
    "        #initial parameters:\n",
    "        params = {\n",
    "            'subreddit': subreddit,\n",
    "            'size': 100,\n",
    "            'before': beginning_date\n",
    "        }\n",
    "        \n",
    "        while count_posts_collected < target_valid_posts:\n",
    "            try:\n",
    "                #get posts:\n",
    "                res = requests.get(base_url,params).json()['data']\n",
    "                this_data = pd.DataFrame(res)[['id','subreddit','author','title','selftext','created_utc']]\n",
    "\n",
    "                #get new time (needs to happen before a bunch of rows get removed):\n",
    "                new_time = list(this_data['created_utc'])[-1]\n",
    "\n",
    "                # drop removed and deleted:\n",
    "                this_data.drop(this_data[this_data['selftext']=='[removed]'].index, inplace=True)\n",
    "                this_data.drop(this_data[this_data['selftext']=='[deleted]'].index, inplace=True)\n",
    "                this_data.drop(this_data[this_data['selftext'].isna()].index, inplace=True)\n",
    "                #append new posts assuming this_data is not of length 0:\n",
    "                if final_df.shape[0] == 0:\n",
    "                    final_df = this_data\n",
    "                else:\n",
    "                    final_df = pd.concat([final_df,this_data])\n",
    "\n",
    "                #get new size:\n",
    "                count_posts_collected += this_data.shape[0]\n",
    "                new_size = min(target_valid_posts - count_posts_collected,100)\n",
    "\n",
    "                #set new params:\n",
    "                params = {\n",
    "                    'subreddit': subreddit,\n",
    "                    'size': new_size,\n",
    "                    'before': new_time,                  \n",
    "                }\n",
    "                \n",
    "                #show in console what the current collected count is:\n",
    "                print(f'Collected {count_posts_collected}, continuing.', end='\\r')\n",
    "\n",
    "                #wait a bit before we go again:\n",
    "                time.sleep(10)\n",
    "                seconds_waited += 10\n",
    "                times_run += 1\n",
    "            except:\n",
    "                target_valid_posts = 0\n",
    "                print(f'Error, returning request data from current params. Managed to collect {count_posts_collected}')\n",
    "                final_df.reset_index(inplace=True)\n",
    "                return (res, final_df)\n",
    "        \n",
    "    else:\n",
    "        print(f'Error, {subreddit} did not have enough posts to be considered.')\n",
    "    print()\n",
    "    print(f'Went out to get posts {times_run} times. Waited {seconds_waited} seconds or {seconds_waited/60:.1f} minutes.')\n",
    "    final_df.reset_index(inplace=True)\n",
    "    return final_df\n",
    "\n"
   ]
  },
  {
   "cell_type": "markdown",
   "id": "183a4097-0e74-48e7-b28d-980d05eef408",
   "metadata": {},
   "source": [
    "---\n",
    "\n",
    "A few contenders for subreddits we'll include."
   ]
  },
  {
   "cell_type": "code",
   "execution_count": 3,
   "id": "a25c6d59-40b9-4bc2-9801-c0fda6a62a2f",
   "metadata": {
    "execution": {
     "iopub.execute_input": "2021-11-03T19:10:25.780915Z",
     "iopub.status.busy": "2021-11-03T19:10:25.779920Z",
     "iopub.status.idle": "2021-11-03T19:28:30.388621Z",
     "shell.execute_reply": "2021-11-03T19:28:30.387822Z",
     "shell.execute_reply.started": "2021-11-03T19:10:25.780915Z"
    },
    "tags": []
   },
   "outputs": [
    {
     "name": "stdout",
     "output_type": "stream",
     "text": [
      "Collected 8000, continuing.\n",
      "Went out to get posts 103 times. Waited 1030 seconds or 17.2 minutes.\n"
     ]
    }
   ],
   "source": [
    "#personal finance:\n",
    "#pf = (get_posts('personalfinance', 8_000),get_metadata('personalfinance'))\n",
    "#pf[0].to_csv('../data/posts__personal_finance.csv', index=False)"
   ]
  },
  {
   "cell_type": "code",
   "execution_count": null,
   "id": "81fd74ce-c642-43c7-9fd4-bdcaa2bc230b",
   "metadata": {
    "tags": []
   },
   "outputs": [],
   "source": [
    "#unpopular opinion\n",
    "#uo = (get_posts('unpopularopinion',8_000), get_metadata('unpopularopinion'))\n",
    "#uo[0].to_csv('../data/posts__unpopular_opinion.csv', index=False)"
   ]
  },
  {
   "cell_type": "code",
   "execution_count": 9,
   "id": "5ed23ffe-49a9-4b96-a506-c71349ef1c5f",
   "metadata": {
    "execution": {
     "iopub.execute_input": "2021-11-03T20:44:13.342626Z",
     "iopub.status.busy": "2021-11-03T20:44:13.342626Z",
     "iopub.status.idle": "2021-11-03T21:05:02.742820Z",
     "shell.execute_reply": "2021-11-03T21:05:02.741830Z",
     "shell.execute_reply.started": "2021-11-03T20:44:13.342626Z"
    }
   },
   "outputs": [
    {
     "name": "stdout",
     "output_type": "stream",
     "text": [
      "Collected 8000, continuing.\n",
      "Went out to get posts 119 times. Waited 1190 seconds or 19.8 minutes.\n"
     ]
    }
   ],
   "source": [
    "#offmychest:\n",
    "#omc = (get_posts('offmychest',8_000),get_metadata('offmychest'))\n",
    "#omc[0].to_csv('../data/posts__offmychest.csv',index=False)"
   ]
  },
  {
   "cell_type": "code",
   "execution_count": 4,
   "id": "a8797385-5730-427a-a37e-97122e1c9b3d",
   "metadata": {
    "execution": {
     "iopub.execute_input": "2021-11-03T19:30:59.705462Z",
     "iopub.status.busy": "2021-11-03T19:30:59.705462Z",
     "iopub.status.idle": "2021-11-03T19:45:30.373461Z",
     "shell.execute_reply": "2021-11-03T19:45:30.372656Z",
     "shell.execute_reply.started": "2021-11-03T19:30:59.705462Z"
    }
   },
   "outputs": [
    {
     "name": "stdout",
     "output_type": "stream",
     "text": [
      "Collected 8000, continuing.\n",
      "Went out to get posts 83 times. Waited 830 seconds or 13.8 minutes.\n"
     ]
    }
   ],
   "source": [
    "#financial planning:\n",
    "#fp = (get_posts('FinancialPlanning', 8_000), get_metadata('FinancialPlanning'))\n",
    "#fp[0].to_csv('../data/posts__financial_planning.csv',index=False)"
   ]
  },
  {
   "cell_type": "code",
   "execution_count": 6,
   "id": "b6e4f999-40b7-4b24-be5b-127887967c2e",
   "metadata": {
    "execution": {
     "iopub.execute_input": "2021-11-03T20:13:27.563421Z",
     "iopub.status.busy": "2021-11-03T20:13:27.563421Z",
     "iopub.status.idle": "2021-11-03T20:13:27.653449Z",
     "shell.execute_reply": "2021-11-03T20:13:27.652585Z",
     "shell.execute_reply.started": "2021-11-03T20:13:27.563421Z"
    },
    "tags": []
   },
   "outputs": [],
   "source": [
    "#dad jokes:\n",
    "#dj = (get_posts('dadjokes', 8_000), get_metadata('dadjokes'))\n",
    "#dj[0].to_csv('../data/posts__dad_jokes.csv',index=False)"
   ]
  },
  {
   "cell_type": "code",
   "execution_count": 8,
   "id": "634f8fe8-29a0-443c-86ab-4a445a4fbc9d",
   "metadata": {
    "execution": {
     "iopub.execute_input": "2021-11-03T20:16:34.694130Z",
     "iopub.status.busy": "2021-11-03T20:16:34.694130Z",
     "iopub.status.idle": "2021-11-03T20:34:17.440529Z",
     "shell.execute_reply": "2021-11-03T20:34:17.436495Z",
     "shell.execute_reply.started": "2021-11-03T20:16:34.694130Z"
    },
    "tags": []
   },
   "outputs": [
    {
     "name": "stdout",
     "output_type": "stream",
     "text": [
      "Collected 8000, continuing.\n",
      "Went out to get posts 101 times. Waited 1010 seconds or 16.8 minutes.\n"
     ]
    }
   ],
   "source": [
    "#jokes:\n",
    "#jokes = (get_posts('jokes',8_000),get_metadata('jokes'))\n",
    "#jokes[0].to_csv('../data/posts__jokes.csv',index=False)"
   ]
  }
 ],
 "metadata": {
  "kernelspec": {
   "display_name": "Python 3",
   "language": "python",
   "name": "python3"
  },
  "language_info": {
   "codemirror_mode": {
    "name": "ipython",
    "version": 3
   },
   "file_extension": ".py",
   "mimetype": "text/x-python",
   "name": "python",
   "nbconvert_exporter": "python",
   "pygments_lexer": "ipython3",
   "version": "3.8.8"
  }
 },
 "nbformat": 4,
 "nbformat_minor": 5
}
