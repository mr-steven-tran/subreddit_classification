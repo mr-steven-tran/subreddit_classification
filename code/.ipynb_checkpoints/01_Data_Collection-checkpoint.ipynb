{
 "cells": [
  {
   "cell_type": "markdown",
   "id": "b5384072-7226-4220-8a4a-9b0c209a39f2",
   "metadata": {},
   "source": [
    "## Project 3 - Subreddit \n",
    "### by Steven Tran\n",
    "\n",
    "<span style='color: red;'>Add TOC when available</span>"
   ]
  },
  {
   "cell_type": "markdown",
   "id": "30783d8b-4c63-4f1d-ae2b-6f8f51df4915",
   "metadata": {},
   "source": [
    "---\n",
    "\n",
    "# 01: Data Collection\n",
    "\n",
    "In this notebook, I will collect (X) number of posts from two subreddits. The table below describes the two subredits, and the date range from which user posts were collected:\n",
    "\n",
    "| Subreddit | # of user posts | FROM | TO |\n",
    "|-----------|-----------------|------|----|\n",
    "| [Sub1](#)      |                 |      |    |\n",
    "| [Sub2](#)      |                 |      |    |\n"
   ]
  },
  {
   "cell_type": "code",
   "execution_count": 1,
   "id": "0d0e132c-d9db-4dba-94be-4dc1056c0647",
   "metadata": {
    "execution": {
     "iopub.execute_input": "2021-11-04T16:45:10.641536Z",
     "iopub.status.busy": "2021-11-04T16:45:10.640531Z",
     "iopub.status.idle": "2021-11-04T16:45:11.675377Z",
     "shell.execute_reply": "2021-11-04T16:45:11.674417Z",
     "shell.execute_reply.started": "2021-11-04T16:45:10.641536Z"
    },
    "tags": []
   },
   "outputs": [],
   "source": [
    "import requests, time, pandas as pd, numpy as np"
   ]
  },
  {
   "cell_type": "code",
   "execution_count": 2,
   "id": "175e8afa-c739-4f65-aa4d-ec7fa77f695a",
   "metadata": {
    "execution": {
     "iopub.execute_input": "2021-11-04T16:45:11.676378Z",
     "iopub.status.busy": "2021-11-04T16:45:11.676378Z",
     "iopub.status.idle": "2021-11-04T16:45:11.690382Z",
     "shell.execute_reply": "2021-11-04T16:45:11.689408Z",
     "shell.execute_reply.started": "2021-11-04T16:45:11.676378Z"
    },
    "tags": []
   },
   "outputs": [],
   "source": [
    "#access pushshift api to get reddit posts:\n",
    "base_url = 'https://api.pushshift.io/reddit/search/submission'\n",
    "\n",
    "def get_metadata(subreddit):\n",
    "    meta_params = {\n",
    "        'subreddit': subreddit,\n",
    "        'size': 0,\n",
    "        'metadata': 'true'\n",
    "    }\n",
    "    \n",
    "    res = requests.get(base_url, meta_params)\n",
    "    sub_metadata = res.json()['metadata']\n",
    "    return {'sub_metadata': sub_metadata}\n",
    "\n",
    "def get_posts(subreddit, num_valid_posts = 200):\n",
    "    #define some boundaries:\n",
    "    target_valid_posts = num_valid_posts #200 by default\n",
    "    count_posts_collected = 0\n",
    "    beginning_date = 1609459200 # jan 1 2021 00:00:00 # start at this date and go back in time; UTC\n",
    "    final_df = pd.DataFrame()\n",
    "    times_run = 0\n",
    "    seconds_waited = 0\n",
    "    \n",
    "\n",
    "    if get_metadata(subreddit)['sub_metadata']['total_results'] > target_valid_posts:\n",
    "    #if requests.get(base_url,check_params).json()['metadata']['total_results'] > target_valid_posts:\n",
    "        #initial parameters:\n",
    "        params = {\n",
    "            'subreddit': subreddit,\n",
    "            'size': min(target_valid_posts,100),\n",
    "            'before': beginning_date\n",
    "        }\n",
    "        \n",
    "        while count_posts_collected < target_valid_posts:\n",
    "            try:\n",
    "                #get posts:\n",
    "                res = requests.get(base_url,params).json()['data']\n",
    "                this_data = pd.DataFrame(res)[['id','subreddit','author','title','selftext','created_utc']]\n",
    "\n",
    "                #get new time (needs to happen before a bunch of rows get removed):\n",
    "                new_time = list(this_data['created_utc'])[-1]\n",
    "\n",
    "                # drop removed and deleted:\n",
    "                this_data.drop(this_data[this_data['selftext']=='[removed]'].index, inplace=True)\n",
    "                this_data.drop(this_data[this_data['selftext']=='[deleted]'].index, inplace=True)\n",
    "                this_data.drop(this_data[this_data['selftext'].isna()].index, inplace=True)\n",
    "                #append new posts assuming this_data is not of length 0:\n",
    "                if final_df.shape[0] == 0:\n",
    "                    final_df = this_data\n",
    "                else:\n",
    "                    final_df = pd.concat([final_df,this_data])\n",
    "\n",
    "                #get new size:\n",
    "                count_posts_collected += this_data.shape[0]\n",
    "                new_size = min(target_valid_posts - count_posts_collected,100)\n",
    "\n",
    "                #set new params:\n",
    "                params = {\n",
    "                    'subreddit': subreddit,\n",
    "                    'size': new_size,\n",
    "                    'before': new_time,                  \n",
    "                }\n",
    "                \n",
    "                #show in console what the current collected count is:\n",
    "                if count_posts_collected < target_valid_posts:\n",
    "                    print(f'Collected {count_posts_collected} observations, continuing.', end='\\r')\n",
    "                else:\n",
    "                    print('==========================================================')\n",
    "                    print(f'Collected {count_posts_collected} observations.')\n",
    "                    print('\\nSuccess.')\n",
    "                #wait a bit before we go again:\n",
    "                time.sleep(10)\n",
    "                seconds_waited += 10\n",
    "                times_run += 1\n",
    "                \n",
    "            except:\n",
    "                target_valid_posts = 0\n",
    "                print(f'Error, returning request data from current params. Managed to collect {count_posts_collected}')\n",
    "                final_df.reset_index(drop=True,inplace=True)\n",
    "                return (res, final_df)\n",
    "        \n",
    "    else:\n",
    "        print(f'Error, {subreddit} did not have enough posts to be considered.')\n",
    "    print()\n",
    "    print(f'Went out to get posts {times_run} times. Waited {seconds_waited} seconds or {seconds_waited/60:.1f} minutes.')\n",
    "    final_df.reset_index(drop=True,inplace=True)\n",
    "    return final_df\n",
    "\n"
   ]
  },
  {
   "cell_type": "markdown",
   "id": "183a4097-0e74-48e7-b28d-980d05eef408",
   "metadata": {},
   "source": [
    "---\n",
    "\n",
    "## Go get the data\n",
    "\n",
    "I'd caution against running this whole script... on my machine, it took between 15 to 25 minutes to get the target 8k posts. YMMV."
   ]
  },
  {
   "cell_type": "code",
   "execution_count": 3,
   "id": "a25c6d59-40b9-4bc2-9801-c0fda6a62a2f",
   "metadata": {
    "execution": {
     "iopub.execute_input": "2021-11-04T16:45:11.691377Z",
     "iopub.status.busy": "2021-11-04T16:45:11.691377Z",
     "iopub.status.idle": "2021-11-04T17:03:11.021898Z",
     "shell.execute_reply": "2021-11-04T17:03:11.020869Z",
     "shell.execute_reply.started": "2021-11-04T16:45:11.691377Z"
    },
    "tags": []
   },
   "outputs": [
    {
     "name": "stdout",
     "output_type": "stream",
     "text": [
      "==========================================================\n",
      "Collected 8000 observations.\n",
      "\n",
      "Success.\n",
      "\n",
      "Went out to get posts 103 times. Waited 1030 seconds or 17.2 minutes.\n"
     ]
    }
   ],
   "source": [
    "#personal finance:\n",
    "pf = get_posts('personalfinance', 8_000)\n",
    "pf.to_csv('../data/posts__personal_finance.csv', index=False)"
   ]
  },
  {
   "cell_type": "code",
   "execution_count": 4,
   "id": "da662a8c-7dee-411a-aa49-c17c777b2b81",
   "metadata": {
    "execution": {
     "iopub.execute_input": "2021-11-04T17:03:11.024897Z",
     "iopub.status.busy": "2021-11-04T17:03:11.023861Z",
     "iopub.status.idle": "2021-11-04T17:03:11.036863Z",
     "shell.execute_reply": "2021-11-04T17:03:11.035862Z",
     "shell.execute_reply.started": "2021-11-04T17:03:11.024897Z"
    }
   },
   "outputs": [],
   "source": [
    "del pf # for memory release"
   ]
  },
  {
   "cell_type": "markdown",
   "id": "a7df7f5d-136f-4df9-b80e-858d0a9e14f1",
   "metadata": {},
   "source": [
    "---"
   ]
  },
  {
   "cell_type": "code",
   "execution_count": 5,
   "id": "a8797385-5730-427a-a37e-97122e1c9b3d",
   "metadata": {
    "execution": {
     "iopub.execute_input": "2021-11-04T17:03:11.037864Z",
     "iopub.status.busy": "2021-11-04T17:03:11.037864Z",
     "iopub.status.idle": "2021-11-04T17:17:47.404571Z",
     "shell.execute_reply": "2021-11-04T17:17:47.402274Z",
     "shell.execute_reply.started": "2021-11-04T17:03:11.037864Z"
    }
   },
   "outputs": [
    {
     "name": "stdout",
     "output_type": "stream",
     "text": [
      "==========================================================\n",
      "Collected 8000 observations.\n",
      "\n",
      "Success.\n",
      "\n",
      "Went out to get posts 83 times. Waited 830 seconds or 13.8 minutes.\n"
     ]
    }
   ],
   "source": [
    "#financial planning:\n",
    "fp = get_posts('FinancialPlanning', 8_000)\n",
    "fp.to_csv('../data/posts__financial_planning.csv',index=False)"
   ]
  },
  {
   "cell_type": "code",
   "execution_count": 6,
   "id": "5101ae4e-4c0a-4aa0-8ded-0e586c845fe5",
   "metadata": {
    "execution": {
     "iopub.execute_input": "2021-11-04T17:17:47.416287Z",
     "iopub.status.busy": "2021-11-04T17:17:47.415327Z",
     "iopub.status.idle": "2021-11-04T17:17:47.433047Z",
     "shell.execute_reply": "2021-11-04T17:17:47.432048Z",
     "shell.execute_reply.started": "2021-11-04T17:17:47.416287Z"
    }
   },
   "outputs": [],
   "source": [
    "del fp # for memory release"
   ]
  },
  {
   "cell_type": "markdown",
   "id": "5614bc5a-dd17-4c35-abe6-c1a27def3c78",
   "metadata": {},
   "source": [
    "---"
   ]
  },
  {
   "cell_type": "code",
   "execution_count": 7,
   "id": "81fd74ce-c642-43c7-9fd4-bdcaa2bc230b",
   "metadata": {
    "execution": {
     "iopub.execute_input": "2021-11-04T17:17:47.434047Z",
     "iopub.status.busy": "2021-11-04T17:17:47.434047Z",
     "iopub.status.idle": "2021-11-04T17:55:18.898627Z",
     "shell.execute_reply": "2021-11-04T17:55:18.897628Z",
     "shell.execute_reply.started": "2021-11-04T17:17:47.434047Z"
    },
    "tags": []
   },
   "outputs": [
    {
     "name": "stdout",
     "output_type": "stream",
     "text": [
      "==========================================================\n",
      "Collected 8000 observations.\n",
      "\n",
      "Success.\n",
      "\n",
      "Went out to get posts 215 times. Waited 2150 seconds or 35.8 minutes.\n"
     ]
    }
   ],
   "source": [
    "#unpopular opinion\n",
    "uo = get_posts('unpopularopinion',8_000)\n",
    "uo.to_csv('../data/posts__unpopular_opinion.csv', index=False)"
   ]
  },
  {
   "cell_type": "code",
   "execution_count": 8,
   "id": "9886fe46-59c6-4118-b01d-c4b88aaebb51",
   "metadata": {
    "execution": {
     "iopub.execute_input": "2021-11-04T17:55:18.901625Z",
     "iopub.status.busy": "2021-11-04T17:55:18.900626Z",
     "iopub.status.idle": "2021-11-04T17:55:18.914631Z",
     "shell.execute_reply": "2021-11-04T17:55:18.913627Z",
     "shell.execute_reply.started": "2021-11-04T17:55:18.901625Z"
    }
   },
   "outputs": [],
   "source": [
    "del uo #for memory release"
   ]
  },
  {
   "cell_type": "markdown",
   "id": "1dff1ee3-f223-4f91-beab-44688e378b27",
   "metadata": {},
   "source": [
    "---"
   ]
  },
  {
   "cell_type": "code",
   "execution_count": 9,
   "id": "5ed23ffe-49a9-4b96-a506-c71349ef1c5f",
   "metadata": {
    "execution": {
     "iopub.execute_input": "2021-11-04T17:55:18.925627Z",
     "iopub.status.busy": "2021-11-04T17:55:18.924636Z",
     "iopub.status.idle": "2021-11-04T18:16:13.182813Z",
     "shell.execute_reply": "2021-11-04T18:16:13.181959Z",
     "shell.execute_reply.started": "2021-11-04T17:55:18.925627Z"
    }
   },
   "outputs": [
    {
     "name": "stdout",
     "output_type": "stream",
     "text": [
      "==========================================================\n",
      "Collected 8000 observations.\n",
      "\n",
      "Success.\n",
      "\n",
      "Went out to get posts 119 times. Waited 1190 seconds or 19.8 minutes.\n"
     ]
    }
   ],
   "source": [
    "#offmychest:\n",
    "omc = get_posts('offmychest',8_000)\n",
    "omc.to_csv('../data/posts__offmychest.csv',index=False)"
   ]
  },
  {
   "cell_type": "code",
   "execution_count": 10,
   "id": "9779083b-8e16-4e9b-b508-9a14384b3549",
   "metadata": {
    "execution": {
     "iopub.execute_input": "2021-11-04T18:16:13.184846Z",
     "iopub.status.busy": "2021-11-04T18:16:13.184846Z",
     "iopub.status.idle": "2021-11-04T18:16:13.198807Z",
     "shell.execute_reply": "2021-11-04T18:16:13.197812Z",
     "shell.execute_reply.started": "2021-11-04T18:16:13.184846Z"
    }
   },
   "outputs": [],
   "source": [
    "del omc #for memory release"
   ]
  },
  {
   "cell_type": "markdown",
   "id": "48ccbe4f-3646-46e0-b87c-70ecb00603c1",
   "metadata": {},
   "source": [
    "---"
   ]
  },
  {
   "cell_type": "code",
   "execution_count": 11,
   "id": "b6e4f999-40b7-4b24-be5b-127887967c2e",
   "metadata": {
    "execution": {
     "iopub.execute_input": "2021-11-04T18:16:13.201812Z",
     "iopub.status.busy": "2021-11-04T18:16:13.201812Z",
     "iopub.status.idle": "2021-11-04T18:34:24.629772Z",
     "shell.execute_reply": "2021-11-04T18:34:24.628809Z",
     "shell.execute_reply.started": "2021-11-04T18:16:13.201812Z"
    },
    "tags": []
   },
   "outputs": [
    {
     "name": "stdout",
     "output_type": "stream",
     "text": [
      "==========================================================\n",
      "Collected 8000 observations.\n",
      "\n",
      "Success.\n",
      "\n",
      "Went out to get posts 104 times. Waited 1040 seconds or 17.3 minutes.\n"
     ]
    }
   ],
   "source": [
    "#dad jokes:\n",
    "dj = get_posts('dadjokes', 8_000)\n",
    "dj.to_csv('../data/posts__dad_jokes.csv',index=False)"
   ]
  },
  {
   "cell_type": "code",
   "execution_count": 12,
   "id": "655aa9de-3be3-4514-97cd-6649a32e453d",
   "metadata": {
    "execution": {
     "iopub.execute_input": "2021-11-04T18:34:24.631774Z",
     "iopub.status.busy": "2021-11-04T18:34:24.631774Z",
     "iopub.status.idle": "2021-11-04T18:34:24.645775Z",
     "shell.execute_reply": "2021-11-04T18:34:24.644814Z",
     "shell.execute_reply.started": "2021-11-04T18:34:24.631774Z"
    }
   },
   "outputs": [],
   "source": [
    "del dj #for memory release"
   ]
  },
  {
   "cell_type": "markdown",
   "id": "0408db6d-23c5-49b9-b493-b549f3b1fdcc",
   "metadata": {},
   "source": [
    "---"
   ]
  },
  {
   "cell_type": "code",
   "execution_count": 13,
   "id": "634f8fe8-29a0-443c-86ab-4a445a4fbc9d",
   "metadata": {
    "execution": {
     "iopub.execute_input": "2021-11-04T18:34:24.647773Z",
     "iopub.status.busy": "2021-11-04T18:34:24.647773Z",
     "iopub.status.idle": "2021-11-04T18:52:04.324706Z",
     "shell.execute_reply": "2021-11-04T18:52:04.324706Z",
     "shell.execute_reply.started": "2021-11-04T18:34:24.647773Z"
    },
    "tags": []
   },
   "outputs": [
    {
     "name": "stdout",
     "output_type": "stream",
     "text": [
      "==========================================================\n",
      "Collected 8000 observations.\n",
      "\n",
      "Success.\n",
      "\n",
      "Went out to get posts 101 times. Waited 1010 seconds or 16.8 minutes.\n"
     ]
    }
   ],
   "source": [
    "#jokes:\n",
    "jokes = get_posts('jokes',8_000)\n",
    "jokes.to_csv('../data/posts__jokes.csv',index=False)"
   ]
  },
  {
   "cell_type": "code",
   "execution_count": 14,
   "id": "e33dfb10-0022-477b-8745-d9e855df40da",
   "metadata": {
    "execution": {
     "iopub.execute_input": "2021-11-04T18:52:04.324706Z",
     "iopub.status.busy": "2021-11-04T18:52:04.324706Z",
     "iopub.status.idle": "2021-11-04T18:52:04.340300Z",
     "shell.execute_reply": "2021-11-04T18:52:04.340300Z",
     "shell.execute_reply.started": "2021-11-04T18:52:04.324706Z"
    }
   },
   "outputs": [],
   "source": [
    "del jokes #for memory release"
   ]
  },
  {
   "cell_type": "markdown",
   "id": "141d9138-f1c1-4c05-a9c1-2c9c7cd8188b",
   "metadata": {},
   "source": [
    "---"
   ]
  }
 ],
 "metadata": {
  "kernelspec": {
   "display_name": "Python 3",
   "language": "python",
   "name": "python3"
  },
  "language_info": {
   "codemirror_mode": {
    "name": "ipython",
    "version": 3
   },
   "file_extension": ".py",
   "mimetype": "text/x-python",
   "name": "python",
   "nbconvert_exporter": "python",
   "pygments_lexer": "ipython3",
   "version": "3.8.8"
  }
 },
 "nbformat": 4,
 "nbformat_minor": 5
}
