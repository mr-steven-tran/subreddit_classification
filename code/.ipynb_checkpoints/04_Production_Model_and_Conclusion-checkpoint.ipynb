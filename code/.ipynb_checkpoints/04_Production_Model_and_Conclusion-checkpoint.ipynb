{
 "cells": [
  {
   "cell_type": "markdown",
   "id": "b5384072-7226-4220-8a4a-9b0c209a39f2",
   "metadata": {},
   "source": [
    "# Project 3 - Subreddit Classification\n",
    "### by Steven Tran\n",
    "\n",
    "| **Notebooks** |\n",
    "|-----------|\n",
    "|[01_Data_Collection](01_Data_Collection.ipynb)|\n",
    "|[02_Cleaning_and_EDA.ipynb](02_Cleaning_and_EDA.ipynb)|\n",
    "|[03_Preprocessing_Modeling_and_Tuning](03_Preprocessing_Modeling_and_Tuning.ipynb)|\n",
    "|[04_Production_Model_and_Conclusion](04_Production_Model_and_Conclusion.ipynb)|"
   ]
  },
  {
   "cell_type": "markdown",
   "id": "30783d8b-4c63-4f1d-ae2b-6f8f51df4915",
   "metadata": {},
   "source": [
    "---\n",
    "\n",
    "# 04: Production Model and Conclusion\n",
    "\n",
    "In this notebook, I'll be constructing the production model to classify text content as belonging to /r/UnpopularOpinion vs. /r/Rant. I'll be using the best parameters identified in the gridsearch ran in [03_Preprocessing_Modeling_and_Tuning](03_Preprocessing_Modeling_and_Tuning.ipynb).\n"
   ]
  },
  {
   "cell_type": "code",
   "execution_count": 1,
   "id": "97b13e7f-6415-451a-be8c-9046e5d1faa4",
   "metadata": {
    "execution": {
     "iopub.execute_input": "2021-11-08T04:25:15.932434Z",
     "iopub.status.busy": "2021-11-08T04:25:15.932434Z",
     "iopub.status.idle": "2021-11-08T04:25:18.308619Z",
     "shell.execute_reply": "2021-11-08T04:25:18.308619Z",
     "shell.execute_reply.started": "2021-11-08T04:25:15.932434Z"
    },
    "tags": []
   },
   "outputs": [],
   "source": [
    "# imports:\n",
    "import pandas as pd, numpy as np, matplotlib.pyplot as plt, seaborn as sns\n",
    "from sklearn.feature_extraction.text import TfidfVectorizer\n",
    "from sklearn.model_selection import train_test_split\n",
    "\n",
    "#logistic regression model:\n",
    "from sklearn.linear_model import LogisticRegression\n",
    "\n",
    "#Metrics for confusion matrices:\n",
    "from sklearn.metrics import plot_confusion_matrix\n",
    "\n",
    "# using this option from lesson 5.05 modeling with VADER to display more text in columns:\n",
    "pd.options.display.max_colwidth = 200\n",
    "\n",
    "#read in data:\n",
    "df = pd.read_csv('../data/cleaned/unpopularopinions.csv')"
   ]
  },
  {
   "cell_type": "code",
   "execution_count": 2,
   "id": "45516ef0-7973-4c19-a92b-519724a5e554",
   "metadata": {
    "execution": {
     "iopub.execute_input": "2021-11-08T04:25:18.308619Z",
     "iopub.status.busy": "2021-11-08T04:25:18.308619Z",
     "iopub.status.idle": "2021-11-08T04:25:18.357321Z",
     "shell.execute_reply": "2021-11-08T04:25:18.356298Z",
     "shell.execute_reply.started": "2021-11-08T04:25:18.308619Z"
    },
    "tags": []
   },
   "outputs": [],
   "source": [
    "#construct text field:\n",
    "df['text'] = df['title_lemma'] + ' ' + df['selftext_lemma']\n",
    "\n",
    "#set X and y:\n",
    "X = df['text']\n",
    "y = df['subreddit']"
   ]
  },
  {
   "cell_type": "code",
   "execution_count": 3,
   "id": "ffe23c7e-edfd-4f71-907b-ffa210e1810b",
   "metadata": {
    "execution": {
     "iopub.execute_input": "2021-11-08T04:25:18.358336Z",
     "iopub.status.busy": "2021-11-08T04:25:18.358336Z",
     "iopub.status.idle": "2021-11-08T04:25:18.381569Z",
     "shell.execute_reply": "2021-11-08T04:25:18.381569Z",
     "shell.execute_reply.started": "2021-11-08T04:25:18.358336Z"
    },
    "tags": []
   },
   "outputs": [
    {
     "name": "stdout",
     "output_type": "stream",
     "text": [
      "Training shapes: X:(11786,) y:(11786,) | Testing shapes: X:(3929,) y:(3929,)\n"
     ]
    }
   ],
   "source": [
    "#train test split:\n",
    "X_train, X_test, y_train, y_test = train_test_split(X,y,random_state=42, stratify=y)\n",
    "print(f'Training shapes: X:{X_train.shape} y:{y_train.shape} | Testing shapes: X:{X_test.shape} y:{y_test.shape}')"
   ]
  },
  {
   "cell_type": "markdown",
   "id": "2b109d2c-8439-4d92-a3f4-c671e42f13ec",
   "metadata": {},
   "source": [
    "---\n",
    "\n",
    "## Production Model\n",
    "\n",
    "One minor thing I'll do differently in the production model compared to the tuned logistic regression is to include in `stop_words` words which coincide with the subreddits' names. So 'unpopular', 'opinion', and 'rant(s)'. Further, due to the timeframe the data was collected, certain political terms appear to be prevalent, and so I'll include words like 'trump', 'covid', and 'pandemic' in the `stop_words`."
   ]
  },
  {
   "cell_type": "code",
   "execution_count": 4,
   "id": "9c15dc4f-2b41-4960-857b-fd92c8c11298",
   "metadata": {
    "execution": {
     "iopub.execute_input": "2021-11-08T04:25:18.385391Z",
     "iopub.status.busy": "2021-11-08T04:25:18.385391Z",
     "iopub.status.idle": "2021-11-08T04:25:18.397399Z",
     "shell.execute_reply": "2021-11-08T04:25:18.397399Z",
     "shell.execute_reply.started": "2021-11-08T04:25:18.385391Z"
    },
    "tags": []
   },
   "outputs": [],
   "source": [
    "#some custom stopwords\n",
    "from sklearn.feature_extraction import text\n",
    "custom_stopwords = ['unpopular', 'popular', 'opinion','rant','rants','donald','trump','biden','election', \n",
    "                    'president','republican', 'democrat', 'vote','liberal','conservative','vaccine', 'covid','pandemic']\n",
    "stopwords = text.ENGLISH_STOP_WORDS.union(custom_stopwords)\n",
    "\n",
    "#Instantiate tfidf vectorizer with best parameters:\n",
    "tfidf = TfidfVectorizer(\n",
    "    stop_words = stopwords,\n",
    "    max_df = 0.9,\n",
    "    min_df = 3,\n",
    "    max_features = 5000,\n",
    "    ngram_range = (1,2)\n",
    ")\n",
    "#Instantiate LogisticRegression classifier with best parameters:\n",
    "logreg = LogisticRegression(\n",
    "    max_iter = 10_000\n",
    ")"
   ]
  },
  {
   "cell_type": "code",
   "execution_count": 5,
   "id": "e51a3ee1-4ae2-4294-812d-7597d92ca03c",
   "metadata": {
    "execution": {
     "iopub.execute_input": "2021-11-08T04:25:18.397399Z",
     "iopub.status.busy": "2021-11-08T04:25:18.397399Z",
     "iopub.status.idle": "2021-11-08T04:25:23.762737Z",
     "shell.execute_reply": "2021-11-08T04:25:23.762737Z",
     "shell.execute_reply.started": "2021-11-08T04:25:18.397399Z"
    },
    "tags": []
   },
   "outputs": [],
   "source": [
    "#fit vectorization:\n",
    "X_train_tfidf = tfidf.fit_transform(X_train)\n",
    "X_test_tfidf = tfidf.transform(X_test)\n",
    "\n",
    "\n",
    "#create dataframes:\n",
    "df_X_train = pd.DataFrame(X_train_tfidf.todense(), columns = tfidf.get_feature_names())\n",
    "df_X_test = pd.DataFrame(X_test_tfidf.todense(),columns = tfidf.get_feature_names())\n",
    "\n",
    "#reset indices:\n",
    "df_X_train.reset_index(drop=True,inplace=True)\n",
    "df_X_test.reset_index(drop=True,inplace=True)\n",
    "X_train.reset_index(drop=True,inplace=True)\n",
    "X_test.reset_index(drop=True,inplace=True)"
   ]
  },
  {
   "cell_type": "code",
   "execution_count": 6,
   "id": "d8100dcc-a5de-44a6-b956-a0482bd4cd02",
   "metadata": {
    "execution": {
     "iopub.execute_input": "2021-11-08T04:25:23.762737Z",
     "iopub.status.busy": "2021-11-08T04:25:23.762737Z",
     "iopub.status.idle": "2021-11-08T04:25:24.471757Z",
     "shell.execute_reply": "2021-11-08T04:25:24.471757Z",
     "shell.execute_reply.started": "2021-11-08T04:25:23.762737Z"
    },
    "tags": []
   },
   "outputs": [
    {
     "data": {
      "text/plain": [
       "LogisticRegression(max_iter=10000)"
      ]
     },
     "execution_count": 6,
     "metadata": {},
     "output_type": "execute_result"
    }
   ],
   "source": [
    "#fit logistic regresion:\n",
    "logreg.fit(X_train_tfidf,y_train)"
   ]
  },
  {
   "cell_type": "code",
   "execution_count": 7,
   "id": "d907f0c7-df71-482b-94f2-c01dbf23e740",
   "metadata": {
    "execution": {
     "iopub.execute_input": "2021-11-08T04:25:24.471757Z",
     "iopub.status.busy": "2021-11-08T04:25:24.471757Z",
     "iopub.status.idle": "2021-11-08T04:25:24.487758Z",
     "shell.execute_reply": "2021-11-08T04:25:24.487758Z",
     "shell.execute_reply.started": "2021-11-08T04:25:24.471757Z"
    },
    "tags": []
   },
   "outputs": [
    {
     "data": {
      "text/plain": [
       "(0.8729848973358222, 0.8167472639348434)"
      ]
     },
     "execution_count": 7,
     "metadata": {},
     "output_type": "execute_result"
    }
   ],
   "source": [
    "#evaluate:\n",
    "logreg.score(X_train_tfidf,y_train), logreg.score(X_test_tfidf,y_test)"
   ]
  },
  {
   "cell_type": "markdown",
   "id": "d2f4fb09-c29f-415b-a953-4a4022333bfe",
   "metadata": {},
   "source": [
    "Even with the minor adjustment of using a custom list of stopwords, the result of the evaluation is not much different than what we saw in [03_Preprocessing_Modeling_and_Tuning](03_Preprocessing_Modeling_and_Tuning.ipynb). The model's accuracy in classification is about 87% in the training data and nearly 82% in the testing data, reflecting a mild variance."
   ]
  },
  {
   "cell_type": "code",
   "execution_count": 26,
   "id": "e3172d29-eb0c-4513-bb93-b95813eee41b",
   "metadata": {
    "execution": {
     "iopub.execute_input": "2021-11-08T05:11:45.245662Z",
     "iopub.status.busy": "2021-11-08T05:11:45.245662Z",
     "iopub.status.idle": "2021-11-08T05:11:45.441752Z",
     "shell.execute_reply": "2021-11-08T05:11:45.441752Z",
     "shell.execute_reply.started": "2021-11-08T05:11:45.245662Z"
    },
    "tags": []
   },
   "outputs": [
    {
     "data": {
      "image/png": "[encoded data removed]",
      "text/plain": [
       "<Figure size 576x576 with 2 Axes>"
      ]
     },
     "metadata": {
      "needs_background": "light"
     },
     "output_type": "display_data"
    }
   ],
   "source": [
    "#plot confusion matrix\n",
    "f, ax = plt.subplots(1,1,figsize=(8,8))\n",
    "plot_confusion_matrix(logreg,X_test_tfidf,y_test,cmap='Reds',ax=ax,display_labels=['/r/Rant','/r/UnpopularOpinion']);"
   ]
  },
  {
   "cell_type": "code",
   "execution_count": 24,
   "id": "2713002b-7612-48ad-bf8c-ddc05a8a0d41",
   "metadata": {
    "execution": {
     "iopub.execute_input": "2021-11-08T05:06:23.455712Z",
     "iopub.status.busy": "2021-11-08T05:06:23.455712Z",
     "iopub.status.idle": "2021-11-08T05:06:23.473744Z",
     "shell.execute_reply": "2021-11-08T05:06:23.473744Z",
     "shell.execute_reply.started": "2021-11-08T05:06:23.455712Z"
    },
    "tags": []
   },
   "outputs": [
    {
     "name": "stdout",
     "output_type": "stream",
     "text": [
      "Recall: 0.8565 | Precision: 0.7982292637465052\n"
     ]
    }
   ],
   "source": [
    "from sklearn.metrics import recall_score, precision_score\n",
    "preds = logreg.predict(X_test_tfidf)\n",
    "print(f'Recall: {recall_score(y_test,preds)} | Precision: {precision_score(y_test,preds)}')"
   ]
  },
  {
   "cell_type": "markdown",
   "id": "607d8094-84d7-49b8-9677-046360eff7cd",
   "metadata": {},
   "source": [
    "The two scores above show the model is better at identifying true positives among all positives than it is at being correct about which classifications are actually positives."
   ]
  },
  {
   "cell_type": "markdown",
   "id": "abd1e6e9-1d01-42da-8202-672d6703ee56",
   "metadata": {},
   "source": [
    "---\n",
    "\n",
    "## Review most impactful words\n",
    "\n",
    "Because we used `LogisticRegression`, we can extract the regression coefficients of each word. As alluded to in [02_Cleaning_and_EDA.ipynb](02_Cleaning_and_EDA.ipynb), because I used `TfidfVectorizer` on our text, the interpretation approach is a little different than that of the standard. If we'd used `CountVectorizer`, the coefficients would measure the impact on classification odds by whether a specific word is present (which `CountVectorizer` denotes using a `1`) or absent (`0`) from the document. \n",
    "\n",
    "Instead, the coefficients associated with terms in our `LogisticRegression` relate to the *importance* of a word on the log-odds of it being being from a post from the /r/UnpopularOpinion subreddit. "
   ]
  },
  {
   "cell_type": "code",
   "execution_count": 8,
   "id": "ade717ba-407f-4ea6-85a5-c527786ab4e7",
   "metadata": {
    "execution": {
     "iopub.execute_input": "2021-11-08T04:25:24.487758Z",
     "iopub.status.busy": "2021-11-08T04:25:24.487758Z",
     "iopub.status.idle": "2021-11-08T04:25:24.938616Z",
     "shell.execute_reply": "2021-11-08T04:25:24.938616Z",
     "shell.execute_reply.started": "2021-11-08T04:25:24.487758Z"
    },
    "tags": []
   },
   "outputs": [],
   "source": [
    "#pull the coefficients and column names (vectorized words became columns) into a dataframe:\n",
    "results = pd.DataFrame([logreg.coef_[0],np.array(df_X_test.columns)],index=['COEF','TERM']).T"
   ]
  },
  {
   "cell_type": "code",
   "execution_count": 9,
   "id": "00a7b05d-13bf-41f5-9485-7dbf45f711e6",
   "metadata": {
    "execution": {
     "iopub.execute_input": "2021-11-08T04:25:24.938616Z",
     "iopub.status.busy": "2021-11-08T04:25:24.938616Z",
     "iopub.status.idle": "2021-11-08T04:25:24.952588Z",
     "shell.execute_reply": "2021-11-08T04:25:24.952588Z",
     "shell.execute_reply.started": "2021-11-08T04:25:24.938616Z"
    },
    "tags": []
   },
   "outputs": [],
   "source": [
    "# top 20 words whose presences suggest the post IS from upopular opinions:\n",
    "unpop = results.sort_values(by='COEF', ascending=False).head(20)"
   ]
  },
  {
   "cell_type": "code",
   "execution_count": 10,
   "id": "39c9aafc-01b1-40e8-b1df-13443180ae0f",
   "metadata": {
    "execution": {
     "iopub.execute_input": "2021-11-08T04:25:24.952588Z",
     "iopub.status.busy": "2021-11-08T04:25:24.952588Z",
     "iopub.status.idle": "2021-11-08T04:25:24.966740Z",
     "shell.execute_reply": "2021-11-08T04:25:24.966740Z",
     "shell.execute_reply.started": "2021-11-08T04:25:24.952588Z"
    },
    "tags": []
   },
   "outputs": [],
   "source": [
    "# top 20 words whose presences suggest the post is NOT from upopular opinions:\n",
    "rant = results.sort_values(by='COEF', ascending=True).head(20)"
   ]
  },
  {
   "cell_type": "markdown",
   "id": "85579cce-9ed2-4ac2-a8fa-04c2e56d7ea5",
   "metadata": {},
   "source": [
    "#### Review words most associated with a post being from /r/UnpopularOpinion:"
   ]
  },
  {
   "cell_type": "code",
   "execution_count": 11,
   "id": "b65401ae-bed6-4aa2-a0d3-4c1f270700e5",
   "metadata": {
    "execution": {
     "iopub.execute_input": "2021-11-08T04:25:24.966740Z",
     "iopub.status.busy": "2021-11-08T04:25:24.966740Z",
     "iopub.status.idle": "2021-11-08T04:25:24.982736Z",
     "shell.execute_reply": "2021-11-08T04:25:24.982736Z",
     "shell.execute_reply.started": "2021-11-08T04:25:24.966740Z"
    },
    "tags": []
   },
   "outputs": [
    {
     "data": {
      "text/html": [
       "<div>\n",
       "<style scoped>\n",
       "    .dataframe tbody tr th:only-of-type {\n",
       "        vertical-align: middle;\n",
       "    }\n",
       "\n",
       "    .dataframe tbody tr th {\n",
       "        vertical-align: top;\n",
       "    }\n",
       "\n",
       "    .dataframe thead th {\n",
       "        text-align: right;\n",
       "    }\n",
       "</style>\n",
       "<table border=\"1\" class=\"dataframe\">\n",
       "  <thead>\n",
       "    <tr style=\"text-align: right;\">\n",
       "      <th></th>\n",
       "      <th>COEF</th>\n",
       "      <th>TERM</th>\n",
       "    </tr>\n",
       "  </thead>\n",
       "  <tbody>\n",
       "    <tr>\n",
       "      <th>3931</th>\n",
       "      <td>3.787166</td>\n",
       "      <td>shouldn</td>\n",
       "    </tr>\n",
       "    <tr>\n",
       "      <th>408</th>\n",
       "      <td>3.490759</td>\n",
       "      <td>better</td>\n",
       "    </tr>\n",
       "    <tr>\n",
       "      <th>403</th>\n",
       "      <td>2.795177</td>\n",
       "      <td>best</td>\n",
       "    </tr>\n",
       "    <tr>\n",
       "      <th>4307</th>\n",
       "      <td>2.750674</td>\n",
       "      <td>taste</td>\n",
       "    </tr>\n",
       "    <tr>\n",
       "      <th>3072</th>\n",
       "      <td>2.646911</td>\n",
       "      <td>overrated</td>\n",
       "    </tr>\n",
       "    <tr>\n",
       "      <th>2885</th>\n",
       "      <td>2.374278</td>\n",
       "      <td>movie</td>\n",
       "    </tr>\n",
       "    <tr>\n",
       "      <th>477</th>\n",
       "      <td>1.861287</td>\n",
       "      <td>boring</td>\n",
       "    </tr>\n",
       "    <tr>\n",
       "      <th>1856</th>\n",
       "      <td>1.857999</td>\n",
       "      <td>great</td>\n",
       "    </tr>\n",
       "    <tr>\n",
       "      <th>2457</th>\n",
       "      <td>1.854428</td>\n",
       "      <td>le</td>\n",
       "    </tr>\n",
       "    <tr>\n",
       "      <th>2647</th>\n",
       "      <td>1.851477</td>\n",
       "      <td>lot people</td>\n",
       "    </tr>\n",
       "    <tr>\n",
       "      <th>2368</th>\n",
       "      <td>1.775163</td>\n",
       "      <td>kid</td>\n",
       "    </tr>\n",
       "    <tr>\n",
       "      <th>672</th>\n",
       "      <td>1.704939</td>\n",
       "      <td>child</td>\n",
       "    </tr>\n",
       "    <tr>\n",
       "      <th>4391</th>\n",
       "      <td>1.70275</td>\n",
       "      <td>think</td>\n",
       "    </tr>\n",
       "    <tr>\n",
       "      <th>3363</th>\n",
       "      <td>1.611985</td>\n",
       "      <td>prefer</td>\n",
       "    </tr>\n",
       "    <tr>\n",
       "      <th>2852</th>\n",
       "      <td>1.601198</td>\n",
       "      <td>modern</td>\n",
       "    </tr>\n",
       "    <tr>\n",
       "      <th>1866</th>\n",
       "      <td>1.594103</td>\n",
       "      <td>gross</td>\n",
       "    </tr>\n",
       "    <tr>\n",
       "      <th>1816</th>\n",
       "      <td>1.561366</td>\n",
       "      <td>good</td>\n",
       "    </tr>\n",
       "    <tr>\n",
       "      <th>2059</th>\n",
       "      <td>1.55627</td>\n",
       "      <td>hot</td>\n",
       "    </tr>\n",
       "    <tr>\n",
       "      <th>3242</th>\n",
       "      <td>1.549758</td>\n",
       "      <td>pet</td>\n",
       "    </tr>\n",
       "    <tr>\n",
       "      <th>1393</th>\n",
       "      <td>1.516639</td>\n",
       "      <td>enjoy</td>\n",
       "    </tr>\n",
       "  </tbody>\n",
       "</table>\n",
       "</div>"
      ],
      "text/plain": [
       "          COEF        TERM\n",
       "3931  3.787166     shouldn\n",
       "408   3.490759      better\n",
       "403   2.795177        best\n",
       "4307  2.750674       taste\n",
       "3072  2.646911   overrated\n",
       "2885  2.374278       movie\n",
       "477   1.861287      boring\n",
       "1856  1.857999       great\n",
       "2457  1.854428          le\n",
       "2647  1.851477  lot people\n",
       "2368  1.775163         kid\n",
       "672   1.704939       child\n",
       "4391   1.70275       think\n",
       "3363  1.611985      prefer\n",
       "2852  1.601198      modern\n",
       "1866  1.594103       gross\n",
       "1816  1.561366        good\n",
       "2059   1.55627         hot\n",
       "3242  1.549758         pet\n",
       "1393  1.516639       enjoy"
      ]
     },
     "execution_count": 11,
     "metadata": {},
     "output_type": "execute_result"
    }
   ],
   "source": [
    "unpop"
   ]
  },
  {
   "cell_type": "markdown",
   "id": "2ba366d3-56f8-4bb8-8275-9cc88ed826e0",
   "metadata": {},
   "source": [
    "The words above are the one which most positively impact the log-likelihood of a post being from /r/UnpopularOpinion. Posts containing these words at a higher level of importance relative to other posts are more likely to be from posts where someone was expressing an unpopular opinion.\n",
    "\n",
    "Words like \"shouldn't\", \"better\", and \"best\" are often used to establish a position or a viewpoint and this could be a reflection of the significance of doing so in the expression of an unpopular opinion.\n",
    "\n",
    "Further, words like \"taste\", \"overrated\", \"movie\" seem to be related to things which are often subjective -- whether something tastes good or not, whether someone *has* good or bad taste, whether foods or works of entertainment are overrated, whether certain movies are good or bad. These are all conceivably areas where someone who disagrees with most people (or are convinced the majority of others hold an opposite view than theirs) would express an unpopular opinion."
   ]
  },
  {
   "cell_type": "markdown",
   "id": "3e13cb40-b4f2-4934-9d36-3d53dfb67b2d",
   "metadata": {},
   "source": [
    "#### Review words' whose presence tend to mean a post is from /r/Rant rather /r/UnpopularOpinion:"
   ]
  },
  {
   "cell_type": "code",
   "execution_count": 12,
   "id": "58971d37-ecb7-497a-9485-acb174321046",
   "metadata": {
    "execution": {
     "iopub.execute_input": "2021-11-08T04:25:24.982736Z",
     "iopub.status.busy": "2021-11-08T04:25:24.982736Z",
     "iopub.status.idle": "2021-11-08T04:25:24.998737Z",
     "shell.execute_reply": "2021-11-08T04:25:24.998737Z",
     "shell.execute_reply.started": "2021-11-08T04:25:24.982736Z"
    },
    "tags": []
   },
   "outputs": [
    {
     "data": {
      "text/html": [
       "<div>\n",
       "<style scoped>\n",
       "    .dataframe tbody tr th:only-of-type {\n",
       "        vertical-align: middle;\n",
       "    }\n",
       "\n",
       "    .dataframe tbody tr th {\n",
       "        vertical-align: top;\n",
       "    }\n",
       "\n",
       "    .dataframe thead th {\n",
       "        text-align: right;\n",
       "    }\n",
       "</style>\n",
       "<table border=\"1\" class=\"dataframe\">\n",
       "  <thead>\n",
       "    <tr style=\"text-align: right;\">\n",
       "      <th></th>\n",
       "      <th>COEF</th>\n",
       "      <th>TERM</th>\n",
       "    </tr>\n",
       "  </thead>\n",
       "  <tbody>\n",
       "    <tr>\n",
       "      <th>1712</th>\n",
       "      <td>-8.811996</td>\n",
       "      <td>fucking</td>\n",
       "    </tr>\n",
       "    <tr>\n",
       "      <th>1696</th>\n",
       "      <td>-8.057862</td>\n",
       "      <td>fuck</td>\n",
       "    </tr>\n",
       "    <tr>\n",
       "      <th>4467</th>\n",
       "      <td>-3.353403</td>\n",
       "      <td>tired</td>\n",
       "    </tr>\n",
       "    <tr>\n",
       "      <th>2737</th>\n",
       "      <td>-3.151804</td>\n",
       "      <td>mask</td>\n",
       "    </tr>\n",
       "    <tr>\n",
       "      <th>1945</th>\n",
       "      <td>-2.989233</td>\n",
       "      <td>hate</td>\n",
       "    </tr>\n",
       "    <tr>\n",
       "      <th>978</th>\n",
       "      <td>-2.915568</td>\n",
       "      <td>damn</td>\n",
       "    </tr>\n",
       "    <tr>\n",
       "      <th>433</th>\n",
       "      <td>-2.807208</td>\n",
       "      <td>bitch</td>\n",
       "    </tr>\n",
       "    <tr>\n",
       "      <th>4165</th>\n",
       "      <td>-2.770151</td>\n",
       "      <td>stop</td>\n",
       "    </tr>\n",
       "    <tr>\n",
       "      <th>1880</th>\n",
       "      <td>-2.763797</td>\n",
       "      <td>guess</td>\n",
       "    </tr>\n",
       "    <tr>\n",
       "      <th>4712</th>\n",
       "      <td>-2.75327</td>\n",
       "      <td>wa</td>\n",
       "    </tr>\n",
       "    <tr>\n",
       "      <th>1800</th>\n",
       "      <td>-2.730317</td>\n",
       "      <td>god</td>\n",
       "    </tr>\n",
       "    <tr>\n",
       "      <th>211</th>\n",
       "      <td>-2.710689</td>\n",
       "      <td>anymore</td>\n",
       "    </tr>\n",
       "    <tr>\n",
       "      <th>3909</th>\n",
       "      <td>-2.704325</td>\n",
       "      <td>shit</td>\n",
       "    </tr>\n",
       "    <tr>\n",
       "      <th>3944</th>\n",
       "      <td>-2.635545</td>\n",
       "      <td>sick</td>\n",
       "    </tr>\n",
       "    <tr>\n",
       "      <th>2853</th>\n",
       "      <td>-2.627356</td>\n",
       "      <td>mom</td>\n",
       "    </tr>\n",
       "    <tr>\n",
       "      <th>4954</th>\n",
       "      <td>-2.542456</td>\n",
       "      <td>wtf</td>\n",
       "    </tr>\n",
       "    <tr>\n",
       "      <th>2118</th>\n",
       "      <td>-2.413616</td>\n",
       "      <td>im</td>\n",
       "    </tr>\n",
       "    <tr>\n",
       "      <th>3940</th>\n",
       "      <td>-2.371184</td>\n",
       "      <td>shut</td>\n",
       "    </tr>\n",
       "    <tr>\n",
       "      <th>3578</th>\n",
       "      <td>-2.370503</td>\n",
       "      <td>reddit</td>\n",
       "    </tr>\n",
       "    <tr>\n",
       "      <th>716</th>\n",
       "      <td>-2.369618</td>\n",
       "      <td>class</td>\n",
       "    </tr>\n",
       "  </tbody>\n",
       "</table>\n",
       "</div>"
      ],
      "text/plain": [
       "          COEF     TERM\n",
       "1712 -8.811996  fucking\n",
       "1696 -8.057862     fuck\n",
       "4467 -3.353403    tired\n",
       "2737 -3.151804     mask\n",
       "1945 -2.989233     hate\n",
       "978  -2.915568     damn\n",
       "433  -2.807208    bitch\n",
       "4165 -2.770151     stop\n",
       "1880 -2.763797    guess\n",
       "4712  -2.75327       wa\n",
       "1800 -2.730317      god\n",
       "211  -2.710689  anymore\n",
       "3909 -2.704325     shit\n",
       "3944 -2.635545     sick\n",
       "2853 -2.627356      mom\n",
       "4954 -2.542456      wtf\n",
       "2118 -2.413616       im\n",
       "3940 -2.371184     shut\n",
       "3578 -2.370503   reddit\n",
       "716  -2.369618    class"
      ]
     },
     "execution_count": 12,
     "metadata": {},
     "output_type": "execute_result"
    }
   ],
   "source": [
    "rant"
   ]
  },
  {
   "cell_type": "markdown",
   "id": "5c9327de-38c1-41b3-8ebc-e0cf21996286",
   "metadata": {},
   "source": [
    "The words above are the one which most negatively impact the log-likelihood of a post being from /r/UnpopularOpinion (increasing their log-likelihood of being from /r/Rant). Posts containing these words at a higher level of importance relative to other posts are more likely to be from posts where someone was ranting.\n",
    "\n",
    "Where there were no expletives (naughty/bad words) in the first list, this list is full of them. From an argumentative standpoint, it could be reasoned that expletivies are not appropriate in establishing a position on a topic and their usage erodes the credibility of the speaker or writer."
   ]
  },
  {
   "cell_type": "markdown",
   "id": "76da4651-f976-43b5-a782-05e2c8a44301",
   "metadata": {},
   "source": [
    "---\n",
    "\n",
    "## Conclusion"
   ]
  },
  {
   "cell_type": "markdown",
   "id": "e65669ad-bf16-409e-ace1-c4ff88e51749",
   "metadata": {},
   "source": [
    "The results of the production model - in particular the accuracy the model attained in classifying 'unseen' text into the correct subreddit - suggest we can be reasonably successful in building a classification model **that can predict whether a piece of text better belongs to the /r/UnpopularOpinion subreddit or the /r/Rant subreddit.**\n",
    "\n",
    "Further, the identification of certain words whose *importance* (that is, how relevant they are in certain documents compared to others) in a text most positively or negatively affects the text's likelhood of being of a certain class suggests logistic regression can be used to aid in the identification and moderation of certain forms of speech.\n",
    "\n",
    "The two forms of speech this analysis examined, 1. the expression of unpopular opinion and 2. rants, showed:\n",
    "* words establishing a position or how things should be (\"shouldn't\", \"better\", \"best\") being important to a text makes the text more likely to be an expression of unpopular, controversial, or dissenting opinion\n",
    "* expletivies being important to a text makes it more likely that the text is a rant\n",
    "\n",
    "### Recommendations"
   ]
  },
  {
   "cell_type": "markdown",
   "id": "30f151d5-2780-4f4e-8af7-49c9bdf3bb0d",
   "metadata": {},
   "source": [
    "1. The furtherance of this type of machine learning work probably requires additional data and model training on a greater variety of *forms of speech*. This analysis was limited only to the *expression of unpopular opinion* form of speech, but others exist and are deserving of their own classification.\n",
    "\n",
    "1. The training and validation data were exclusive to a couple of months in the year 2020. A greater variety of training and validation data would be most helfpul in making this analysis more robust.\n",
    "\n",
    "1. User-submitted text posts from Reddit may not be the gold standard for characterizing certain forms of speech. An exploration into other, richer potential data sources would be benfeficial to this work."
   ]
  }
 ],
 "metadata": {
  "kernelspec": {
   "display_name": "Python 3",
   "language": "python",
   "name": "python3"
  },
  "language_info": {
   "codemirror_mode": {
    "name": "ipython",
    "version": 3
   },
   "file_extension": ".py",
   "mimetype": "text/x-python",
   "name": "python",
   "nbconvert_exporter": "python",
   "pygments_lexer": "ipython3",
   "version": "3.8.8"
  }
 },
 "nbformat": 4,
 "nbformat_minor": 5
}
